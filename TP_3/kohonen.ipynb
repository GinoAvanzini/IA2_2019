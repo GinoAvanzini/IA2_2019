{
 "cells": [
  {
   "cell_type": "markdown",
   "metadata": {
    "colab_type": "text",
    "id": "ixJQF6OHdkUN"
   },
   "source": [
    "# Red tipo mapa de Kohonen\n",
    "---\n",
    "Implementación de red tipo mapa de Kohonen para procesar caracteres escritos a mano para reconocer caracteres (clasificación con LVQ) y asociar caracteres parciales con caracteres completos (memoria asociativa)."
   ]
  },
  {
   "cell_type": "markdown",
   "metadata": {
    "colab_type": "text",
    "id": "-WC8jES_drZU"
   },
   "source": [
    "## Análisis del dataset a utilizar\n",
    "El dataset provisto por la cátedra es un archivo formato CSV, una tabla, donde cada fila es una lista con el valor de los pixeles de una imágen de un caracter. Estas imágenes son de 28 x 28 pixeles, es decir, la lista es de 784 números de 0 a 255.\n",
    "\n",
    "EL dataset brindado da las imágenes con etiqueta, por lo que se posee información de qué caracter corresponde a cada imágen."
   ]
  },
  {
   "cell_type": "code",
   "execution_count": 2,
   "metadata": {
    "colab": {},
    "colab_type": "code",
    "id": "Ip1YxBnsdtIK"
   },
   "outputs": [],
   "source": [
    "import csv\n",
    "import numpy as np"
   ]
  },
  {
   "cell_type": "code",
   "execution_count": null,
   "metadata": {
    "colab": {},
    "colab_type": "code",
    "id": "ZxPc7I_-eO-W"
   },
   "outputs": [],
   "source": [
    "train_raw = []\n",
    "with open('train.csv') as csvDataFile:\n",
    "    csvReader = csv.reader(csvDataFile)\n",
    "    for i, row in enumerate(csvReader):\n",
    "        if (i == 0):\n",
    "            continue\n",
    "        label = row[0]\n",
    "        train_raw.append([label, np.array(row[1:], dtype=float)])\n",
    "        if (i > 10):\n",
    "            break"
   ]
  },
  {
   "cell_type": "markdown",
   "metadata": {
    "colab_type": "text",
    "id": "EIfEn6vRcI8L"
   },
   "source": [
    "La cantidad de imágenes en el conjunto de entrenamiento es la siguiente:"
   ]
  },
  {
   "cell_type": "code",
   "execution_count": null,
   "metadata": {
    "colab": {
     "base_uri": "https://localhost:8080/",
     "height": 36
    },
    "colab_type": "code",
    "executionInfo": {
     "elapsed": 1452,
     "status": "ok",
     "timestamp": 1560276230073,
     "user": {
      "displayName": "Gonzalo Fernández",
      "photoUrl": "https://lh3.googleusercontent.com/-uWWuBZ_EsQ8/AAAAAAAAAAI/AAAAAAAAFDk/ASoR-_qaTd0/s64/photo.jpg",
      "userId": "07742164883455342150"
     },
     "user_tz": 180
    },
    "id": "q9bSIlL0nxFy",
    "outputId": "2bde9bbc-b812-4af6-c197-8e642eaf632e"
   },
   "outputs": [],
   "source": [
    "with open('train.csv') as csvDataFile:\n",
    "    csvReader = csv.reader(csvDataFile)\n",
    "    row_count = sum(1 for row in csvReader)\n",
    "print(row_count-1)"
   ]
  },
  {
   "cell_type": "markdown",
   "metadata": {
    "colab_type": "text",
    "id": "Twwsh9M1YB4i"
   },
   "source": [
    "## Visualización previa de los datos\n",
    "\n",
    "Para poder observar los datos ingresados previo a implementar el algoritmo se reconstruyen una muestra de 5 imágenes del dataset:"
   ]
  },
  {
   "cell_type": "code",
   "execution_count": null,
   "metadata": {
    "colab": {},
    "colab_type": "code",
    "id": "Ibbx3H4jf9bz"
   },
   "outputs": [],
   "source": [
    "from matplotlib import pyplot as plt"
   ]
  },
  {
   "cell_type": "code",
   "execution_count": null,
   "metadata": {
    "colab": {},
    "colab_type": "code",
    "id": "LWUiJWjrfc7T"
   },
   "outputs": [],
   "source": [
    "collection = []\n",
    "\n",
    "number = np.ndarray((28, 28))\n",
    "\n",
    "for img in train_raw:\n",
    "    iter = 0\n",
    "    for i in range(0, 28):\n",
    "        for j in range(0, 28):\n",
    "            number[i, j] = (img[1][iter])\n",
    "            iter += 1\n",
    "    number = np.zeros((28, 28))\n",
    "    collection.append([img[0], number])"
   ]
  },
  {
   "cell_type": "code",
   "execution_count": null,
   "metadata": {
    "colab": {
     "base_uri": "https://localhost:8080/",
     "height": 420
    },
    "colab_type": "code",
    "executionInfo": {
     "elapsed": 1196,
     "status": "ok",
     "timestamp": 1560276242389,
     "user": {
      "displayName": "Gonzalo Fernández",
      "photoUrl": "https://lh3.googleusercontent.com/-uWWuBZ_EsQ8/AAAAAAAAAAI/AAAAAAAAFDk/ASoR-_qaTd0/s64/photo.jpg",
      "userId": "07742164883455342150"
     },
     "user_tz": 180
    },
    "id": "uG7bVUMbfyHx",
    "outputId": "26fef942-7235-4067-b65f-4b0605349b50"
   },
   "outputs": [],
   "source": [
    "f, axes = plt.subplots(5, 1, figsize=(5, 5))\n",
    "for i, ax in enumerate(axes):\n",
    "  ax.imshow(collection[i][1])\n",
    "  print(collection[i+1][0]) # Ni idea porque los labels están corridos"
   ]
  },
  {
   "cell_type": "markdown",
   "metadata": {
    "colab_type": "text",
    "id": "xr-XgXUcXlkP"
   },
   "source": [
    "### Normalización de los datos de entrada\n",
    "\n",
    "Con el fin de preparar los datos de entrada al algoritmo, se normalizan los valores de la imágen, pasando de 0 a 255 a valores entre 0 y 1."
   ]
  },
  {
   "cell_type": "code",
   "execution_count": null,
   "metadata": {
    "colab": {},
    "colab_type": "code",
    "id": "XyzdwcyqfoQ5"
   },
   "outputs": [],
   "source": [
    "from numpy import delete\n",
    "\n",
    "train = []\n",
    "\n",
    "for i in range(0, len(train_raw)-1):\n",
    "    # label = img[0]\n",
    "    label = train_raw[i+1][0]\n",
    "    delete(train_raw[i][0], 0)\n",
    "    img_as_float = train_raw[i][1] / 255\n",
    "    train.append([label, img_as_float])"
   ]
  },
  {
   "cell_type": "code",
   "execution_count": null,
   "metadata": {
    "colab": {
     "base_uri": "https://localhost:8080/",
     "height": 36
    },
    "colab_type": "code",
    "executionInfo": {
     "elapsed": 1155,
     "status": "ok",
     "timestamp": 1560276253412,
     "user": {
      "displayName": "Gonzalo Fernández",
      "photoUrl": "https://lh3.googleusercontent.com/-uWWuBZ_EsQ8/AAAAAAAAAAI/AAAAAAAAFDk/ASoR-_qaTd0/s64/photo.jpg",
      "userId": "07742164883455342150"
     },
     "user_tz": 180
    },
    "id": "__LwpM3zVtPH",
    "outputId": "780ff5f1-d274-4b1c-d84b-15ad0dfee6cc"
   },
   "outputs": [],
   "source": [
    "print(train[0][0], train[0][1].shape)"
   ]
  },
  {
   "cell_type": "markdown",
   "metadata": {
    "colab_type": "text",
    "id": "Hk0t4kZd4CKp"
   },
   "source": [
    "## Modelo de la Red Neuronal"
   ]
  },
  {
   "cell_type": "code",
   "execution_count": null,
   "metadata": {
    "colab": {},
    "colab_type": "code",
    "id": "c5llJUI_4Vp3"
   },
   "outputs": [],
   "source": [
    "x = train_raw[0][1]\n",
    "\n",
    "map_kohonen = np.zeros((100, 100)) # Mapa de neuronas\n",
    "\n",
    "W = np.zeros((map_kohonen.shape[0], map_kohonen.shape[1], x.shape[0]))        "
   ]
  },
  {
   "cell_type": "code",
   "execution_count": null,
   "metadata": {
    "colab": {
     "base_uri": "https://localhost:8080/",
     "height": 36
    },
    "colab_type": "code",
    "executionInfo": {
     "elapsed": 1510,
     "status": "ok",
     "timestamp": 1560276260742,
     "user": {
      "displayName": "Gonzalo Fernández",
      "photoUrl": "https://lh3.googleusercontent.com/-uWWuBZ_EsQ8/AAAAAAAAAAI/AAAAAAAAFDk/ASoR-_qaTd0/s64/photo.jpg",
      "userId": "07742164883455342150"
     },
     "user_tz": 180
    },
    "id": "qmr3mFTz4p-b",
    "outputId": "c971a3f3-b789-4bb3-f823-59036be8f9a2"
   },
   "outputs": [],
   "source": [
    "print(W.shape, W[0, 0, :].shape)"
   ]
  },
  {
   "cell_type": "markdown",
   "metadata": {
    "colab_type": "text",
    "id": "ixVNOFqHHqVl"
   },
   "source": [
    "### Ritmo de aprendizaje $\\alpha(t)$\n",
    "Se seleccionó como ritmo de aprendizaje un función decreciente exponencial de la forma:\n",
    "\n",
    "$\\alpha(t)=\\alpha_{0}\\left(\\frac{\\alpha_{f}}{\\alpha_{0}}\\right)^{\\frac{t}{t_{\\alpha}}}$"
   ]
  },
  {
   "cell_type": "code",
   "execution_count": null,
   "metadata": {
    "colab": {},
    "colab_type": "code",
    "id": "FNEHoL3-H-Uw"
   },
   "outputs": [],
   "source": [
    "def ritmo_aprendizaje(t, t_alfa=100, alfa_0=0.7, alfa_f=0.01):\n",
    "    alfa = alfa_0 * (alfa_f / alfa_0)**(t / t_alfa)\n",
    "    return alfa"
   ]
  },
  {
   "cell_type": "markdown",
   "metadata": {
    "colab_type": "text",
    "id": "Ar3HOy2KtqGa"
   },
   "source": [
    "Ejemplo de la función:"
   ]
  },
  {
   "cell_type": "code",
   "execution_count": null,
   "metadata": {
    "colab": {
     "base_uri": "https://localhost:8080/",
     "height": 269
    },
    "colab_type": "code",
    "executionInfo": {
     "elapsed": 13,
     "status": "ok",
     "timestamp": 1560276530984,
     "user": {
      "displayName": "Gonzalo Fernández",
      "photoUrl": "https://lh3.googleusercontent.com/-uWWuBZ_EsQ8/AAAAAAAAAAI/AAAAAAAAFDk/ASoR-_qaTd0/s64/photo.jpg",
      "userId": "07742164883455342150"
     },
     "user_tz": 180
    },
    "id": "sdqHFMv7twvv",
    "outputId": "cfbac35b-69af-426c-c240-ddebae2d8412"
   },
   "outputs": [],
   "source": [
    "a = []\n",
    "for i in range(0, 150):\n",
    "    a.append(ritmo_aprendizaje(i))\n",
    "\n",
    "plt.plot(range(0, 150), a)\n",
    "plt.grid()"
   ]
  },
  {
   "cell_type": "markdown",
   "metadata": {
    "colab_type": "text",
    "id": "GzA5KL_JKAKy"
   },
   "source": [
    "### Función de vecindad $h(|\\bar{i}-\\bar{g}|, t)$\n",
    "Para comenzar, se eligió una función simple como es la escalón, donde el radio de vecindad R(t) desciende linealmente."
   ]
  },
  {
   "cell_type": "code",
   "execution_count": null,
   "metadata": {
    "colab": {},
    "colab_type": "code",
    "id": "f4GnPHr7K6tU"
   },
   "outputs": [],
   "source": [
    "def radio_vecindad(t, t_r=100, R_0=100, R_f=1):\n",
    "    R = R_0 + (R_f - R_0) * t / t_r\n",
    "    return R"
   ]
  },
  {
   "cell_type": "code",
   "execution_count": null,
   "metadata": {
    "colab": {},
    "colab_type": "code",
    "id": "53b3nbNtKbAU"
   },
   "outputs": [],
   "source": [
    "def vecindad(i, g, t, R=radio_vecindad):\n",
    "    aux = np.sqrt((i[0] - g[0])**2 + (i[1] - g[1])**2)\n",
    "    if (aux > R(t)):\n",
    "        return 0\n",
    "    else:\n",
    "        return 1"
   ]
  },
  {
   "cell_type": "markdown",
   "metadata": {
    "colab_type": "text",
    "id": "BmK6qRgqucfX"
   },
   "source": [
    "Gráfica de la función utilizada como radio de vecindad:"
   ]
  },
  {
   "cell_type": "code",
   "execution_count": null,
   "metadata": {
    "colab": {
     "base_uri": "https://localhost:8080/",
     "height": 269
    },
    "colab_type": "code",
    "executionInfo": {
     "elapsed": 30757,
     "status": "ok",
     "timestamp": 1560276612711,
     "user": {
      "displayName": "Gonzalo Fernández",
      "photoUrl": "https://lh3.googleusercontent.com/-uWWuBZ_EsQ8/AAAAAAAAAAI/AAAAAAAAFDk/ASoR-_qaTd0/s64/photo.jpg",
      "userId": "07742164883455342150"
     },
     "user_tz": 180
    },
    "id": "oI9qkh1mubIy",
    "outputId": "4d40e080-aade-4efa-a265-6c5013e27fd0"
   },
   "outputs": [],
   "source": [
    "a = []\n",
    "for i in range(0, 100):\n",
    "    a.append(radio_vecindad(i))\n",
    "\n",
    "plt.plot(range(0, 100), a)\n",
    "plt.grid()"
   ]
  },
  {
   "cell_type": "markdown",
   "metadata": {
    "colab_type": "text",
    "id": "8YzQA8CcNyJm"
   },
   "source": [
    "### Métricas de similitud\n",
    "Se seleccionó como métrica de similitud la distancia euclídea:\n",
    "\n",
    "$d^{2}(\\bar{w_{ij}}, \\bar{x}) = \\displaystyle\\sum_{k=1}^{n} (w_{ij} - x_{k})^{2}$"
   ]
  },
  {
   "cell_type": "code",
   "execution_count": null,
   "metadata": {
    "colab": {},
    "colab_type": "code",
    "id": "BShT77TBNpvw"
   },
   "outputs": [],
   "source": [
    "def d_euclidean(x, w):\n",
    "    sum = 0\n",
    "    for i in range(x.shape[0]):\n",
    "        sum += (x[i] - w[i])**2\n",
    "    return sum"
   ]
  },
  {
   "cell_type": "markdown",
   "metadata": {
    "colab_type": "text",
    "id": "eBpsEhGebdm7"
   },
   "source": [
    "Solo para calcular la similitud de un $w_{ijk}$ con una entrada $x$, se debe recorrer todo el vector, es decir, k iteraciones (en este caso 785 iteraciones)."
   ]
  },
  {
   "cell_type": "markdown",
   "metadata": {
    "colab_type": "text",
    "id": "6p-WzMYYQNYH"
   },
   "source": [
    "### Reglas de aprendizaje para la métrica de similitud usada\n",
    "La regla de aprendizaje para la distancia euclídea es de la forma:\n",
    "\n",
    "$\\bar{w_{i}}(t+1) = \\bar{w_{i}}(t) + \\alpha(t) \\cdot h(|\\bar{i} - \\bar{g}|, t) \\cdot (x_{k}(t) - w_{ijk}(t))$"
   ]
  },
  {
   "cell_type": "code",
   "execution_count": null,
   "metadata": {
    "colab": {},
    "colab_type": "code",
    "id": "TaEE-YmoPNrL"
   },
   "outputs": [],
   "source": [
    "def update_w(w, x, i, g, t, lvq, ritmo_aprendizaje, vecindad):\n",
    "    w_new = w + lvq * ritmo_aprendizaje(t) * vecindad(i, g, t) * (x - w) \n",
    "    # CUIDADO: Ver si la diferencia puede dar negativo, \n",
    "    # si es así, calcular valor absoluto. Se utiliza distancia euclideana,\n",
    "    # por lo que no debería pasar.\n",
    "    return w_new"
   ]
  },
  {
   "cell_type": "markdown",
   "metadata": {
    "colab_type": "text",
    "id": "icr_EgTpYlSL"
   },
   "source": [
    "## Análisis de las diferentes etapas de entrenamiento de la red neuronal"
   ]
  },
  {
   "cell_type": "markdown",
   "metadata": {
    "colab_type": "text",
    "id": "zA1n1twDXAFI"
   },
   "source": [
    "### Inicialización de pesos sinápticos\n",
    "Se inicializan los pesos sinápticos con números aleatorios pequeños tomados de una distribución Gaussiana con $\\mu=0$ y $\\sigma=1$:"
   ]
  },
  {
   "cell_type": "code",
   "execution_count": null,
   "metadata": {
    "colab": {},
    "colab_type": "code",
    "id": "51g672VkXiU2"
   },
   "outputs": [],
   "source": [
    "from numpy.random import normal\n",
    "\n",
    "mu = 0\n",
    "sigma = 1\n",
    "\n",
    "for i in range(W.shape[0]):\n",
    "    for j in range(W.shape[1]):\n",
    "        W[i, j, :] = abs(0.01 * normal(mu, sigma, W.shape[2]))"
   ]
  },
  {
   "cell_type": "markdown",
   "metadata": {
    "colab_type": "text",
    "id": "VCZqO25iPbXA"
   },
   "source": [
    "### Obtención de neurona ganadora\n",
    "\n",
    "La neurona ganadora $\\bar{g}$ cumple:\n",
    "\n",
    "$\\bar{g} = \\text{arg}\\quad\\displaystyle\\text{min}_{ij}\\left[ d(\\bar{w_{ij}}, \\bar{x})\\right]$"
   ]
  },
  {
   "cell_type": "code",
   "execution_count": null,
   "metadata": {
    "colab": {},
    "colab_type": "code",
    "id": "FBBKqB8YVCTV"
   },
   "outputs": [],
   "source": [
    "from math import inf\n",
    "\n",
    "minim = inf\n",
    "\n",
    "for i in range(map_kohonen.shape[0]):\n",
    "    for j in range(map_kohonen.shape[1]):\n",
    "        map_kohonen[i, j] = d_euclidean(x, W[i, j, :])\n",
    "        if (map_kohonen[i, j] < minim):\n",
    "            minim = map_kohonen[i, j]\n",
    "            g = [i, j]"
   ]
  },
  {
   "cell_type": "code",
   "execution_count": null,
   "metadata": {
    "colab": {
     "base_uri": "https://localhost:8080/",
     "height": 36
    },
    "colab_type": "code",
    "executionInfo": {
     "elapsed": 618,
     "status": "ok",
     "timestamp": 1560276707711,
     "user": {
      "displayName": "Gonzalo Fernández",
      "photoUrl": "https://lh3.googleusercontent.com/-uWWuBZ_EsQ8/AAAAAAAAAAI/AAAAAAAAFDk/ASoR-_qaTd0/s64/photo.jpg",
      "userId": "07742164883455342150"
     },
     "user_tz": 180
    },
    "id": "0VTfECXwZpSx",
    "outputId": "6a8fe081-5c82-4bf3-ac5b-3c590437faa7"
   },
   "outputs": [],
   "source": [
    "g"
   ]
  },
  {
   "cell_type": "markdown",
   "metadata": {
    "colab_type": "text",
    "id": "NGsB6XdzdfMB"
   },
   "source": [
    "### Actualización de pesos sinápticos"
   ]
  },
  {
   "cell_type": "code",
   "execution_count": null,
   "metadata": {
    "colab": {},
    "colab_type": "code",
    "id": "nIKyaVy2bSdI"
   },
   "outputs": [],
   "source": [
    "t = 0\n",
    "for [_, x] in train:\n",
    "    minim = inf\n",
    "\n",
    "    for i in range(map_kohonen.shape[0]):\n",
    "        for j in range(map_kohonen.shape[1]):\n",
    "            map_kohonen[i, j] = d_euclidean(x, W[i, j, :])\n",
    "            if (map_kohonen[i, j] < minim):\n",
    "                minim = map_kohonen[i, j]\n",
    "                g = [i, j]\n",
    "    \n",
    "    for i in range(W.shape[0]):\n",
    "        for j in range(W.shape[1]):\n",
    "            W[i, j, :] = update_w(W[i, j, :], x, [i, j], g, t, 1, ritmo_aprendizaje, vecindad)\n",
    "    \n",
    "    t += 1"
   ]
  },
  {
   "cell_type": "markdown",
   "metadata": {
    "colab_type": "text",
    "id": "J9araVHFqOwY"
   },
   "source": [
    "## Evaluación de aprendizaje y optimización de hiperparámetros\n",
    "\n",
    "Para la evaluación del aprendizaje de la red se realizó **k-fold cross validation**, con $k=3$, es decir, se deja $1/3$ de los casos de entrenamiento para testing y el experimento se repite $3$ veces."
   ]
  },
  {
   "cell_type": "code",
   "execution_count": 5,
   "metadata": {
    "colab": {},
    "colab_type": "code",
    "id": "yoHgsxDshOvo"
   },
   "outputs": [],
   "source": [
    "data_raw = []\n",
    "with open('train.csv') as csvDataFile:\n",
    "    csvReader = csv.reader(csvDataFile)\n",
    "    for i, row in enumerate(csvReader):\n",
    "        if (i == 0):\n",
    "            continue\n",
    "        label = row[0]\n",
    "        data_raw.append([label, np.array(row[1:], dtype=float)])"
   ]
  },
  {
   "cell_type": "markdown",
   "metadata": {
    "colab_type": "text",
    "id": "_92VbQyjvsq-"
   },
   "source": [
    "Normalización de todo el dataset:"
   ]
  },
  {
   "cell_type": "code",
   "execution_count": 6,
   "metadata": {
    "colab": {},
    "colab_type": "code",
    "id": "lxrQ8vL2r9c5"
   },
   "outputs": [
    {
     "ename": "NameError",
     "evalue": "name 'delete' is not defined",
     "output_type": "error",
     "traceback": [
      "\u001b[0;31m---------------------------------------------------------------------------\u001b[0m",
      "\u001b[0;31mNameError\u001b[0m                                 Traceback (most recent call last)",
      "\u001b[0;32m<ipython-input-6-e4fc108d13a1>\u001b[0m in \u001b[0;36m<module>\u001b[0;34m\u001b[0m\n\u001b[1;32m      4\u001b[0m     \u001b[0;31m# label = img[0]\u001b[0m\u001b[0;34m\u001b[0m\u001b[0;34m\u001b[0m\u001b[0;34m\u001b[0m\u001b[0m\n\u001b[1;32m      5\u001b[0m     \u001b[0mlabel\u001b[0m \u001b[0;34m=\u001b[0m \u001b[0mdata_raw\u001b[0m\u001b[0;34m[\u001b[0m\u001b[0mi\u001b[0m\u001b[0;34m+\u001b[0m\u001b[0;36m1\u001b[0m\u001b[0;34m]\u001b[0m\u001b[0;34m[\u001b[0m\u001b[0;36m0\u001b[0m\u001b[0;34m]\u001b[0m\u001b[0;34m\u001b[0m\u001b[0;34m\u001b[0m\u001b[0m\n\u001b[0;32m----> 6\u001b[0;31m     \u001b[0mdelete\u001b[0m\u001b[0;34m(\u001b[0m\u001b[0mdata_raw\u001b[0m\u001b[0;34m[\u001b[0m\u001b[0mi\u001b[0m\u001b[0;34m]\u001b[0m\u001b[0;34m[\u001b[0m\u001b[0;36m0\u001b[0m\u001b[0;34m]\u001b[0m\u001b[0;34m,\u001b[0m \u001b[0;36m0\u001b[0m\u001b[0;34m)\u001b[0m\u001b[0;34m\u001b[0m\u001b[0;34m\u001b[0m\u001b[0m\n\u001b[0m\u001b[1;32m      7\u001b[0m     \u001b[0mimg_as_float\u001b[0m \u001b[0;34m=\u001b[0m \u001b[0mdata_raw\u001b[0m\u001b[0;34m[\u001b[0m\u001b[0mi\u001b[0m\u001b[0;34m]\u001b[0m\u001b[0;34m[\u001b[0m\u001b[0;36m1\u001b[0m\u001b[0;34m]\u001b[0m \u001b[0;34m/\u001b[0m \u001b[0;36m255\u001b[0m\u001b[0;34m\u001b[0m\u001b[0;34m\u001b[0m\u001b[0m\n\u001b[1;32m      8\u001b[0m     \u001b[0mdata\u001b[0m\u001b[0;34m.\u001b[0m\u001b[0mappend\u001b[0m\u001b[0;34m(\u001b[0m\u001b[0;34m[\u001b[0m\u001b[0mlabel\u001b[0m\u001b[0;34m,\u001b[0m \u001b[0mimg_as_float\u001b[0m\u001b[0;34m]\u001b[0m\u001b[0;34m)\u001b[0m\u001b[0;34m\u001b[0m\u001b[0;34m\u001b[0m\u001b[0m\n",
      "\u001b[0;31mNameError\u001b[0m: name 'delete' is not defined"
     ]
    }
   ],
   "source": [
    "data = []\n",
    "\n",
    "for i in range(0, len(data_raw)-1):\n",
    "    # label = img[0]\n",
    "    label = data_raw[i+1][0]\n",
    "    delete(data_raw[i][0], 0)\n",
    "    img_as_float = data_raw[i][1] / 255\n",
    "    data.append([label, img_as_float])"
   ]
  },
  {
   "cell_type": "markdown",
   "metadata": {
    "colab_type": "text",
    "id": "IaR01nwxv484"
   },
   "source": [
    "Siendo la longitud del dataset:"
   ]
  },
  {
   "cell_type": "code",
   "execution_count": null,
   "metadata": {
    "colab": {
     "base_uri": "https://localhost:8080/",
     "height": 36
    },
    "colab_type": "code",
    "executionInfo": {
     "elapsed": 1096,
     "status": "ok",
     "timestamp": 1560277030516,
     "user": {
      "displayName": "Gonzalo Fernández",
      "photoUrl": "https://lh3.googleusercontent.com/-uWWuBZ_EsQ8/AAAAAAAAAAI/AAAAAAAAFDk/ASoR-_qaTd0/s64/photo.jpg",
      "userId": "07742164883455342150"
     },
     "user_tz": 180
    },
    "id": "XsXsm_Pjv77d",
    "outputId": "9c9c3b30-8c72-4661-a257-74c3e74b2c78"
   },
   "outputs": [],
   "source": [
    "len(data)"
   ]
  },
  {
   "cell_type": "markdown",
   "metadata": {
    "colab_type": "text",
    "id": "sCN-aIo6wDdl"
   },
   "source": [
    "Se procede a separar un tercio del dataset que formará el conjunto de test:"
   ]
  },
  {
   "cell_type": "code",
   "execution_count": null,
   "metadata": {
    "colab": {
     "base_uri": "https://localhost:8080/",
     "height": 36
    },
    "colab_type": "code",
    "executionInfo": {
     "elapsed": 1101,
     "status": "ok",
     "timestamp": 1560277133874,
     "user": {
      "displayName": "Gonzalo Fernández",
      "photoUrl": "https://lh3.googleusercontent.com/-uWWuBZ_EsQ8/AAAAAAAAAAI/AAAAAAAAFDk/ASoR-_qaTd0/s64/photo.jpg",
      "userId": "07742164883455342150"
     },
     "user_tz": 180
    },
    "id": "j0V5S0mzwOM7",
    "outputId": "ce8ca5ac-2ae5-4fb3-fcba-c230f742d94b"
   },
   "outputs": [],
   "source": [
    "train = data[:28000]\n",
    "\n",
    "test = data[28000:]\n",
    "\n",
    "print(len(data), len(train), len(test))"
   ]
  },
  {
   "cell_type": "markdown",
   "metadata": {
    "colab_type": "text",
    "id": "7A_pZZG5jUoC"
   },
   "source": [
    "## Entrenamiento de la red neuronal\n",
    "\n",
    "Dentro del conjunto de training, se destina un 10% a un ajuste fino con **LVQ (Learning Vector Quantization)**, recordar que el problema es de **clasificación**."
   ]
  },
  {
   "cell_type": "code",
   "execution_count": null,
   "metadata": {
    "colab": {
     "base_uri": "https://localhost:8080/",
     "height": 372
    },
    "colab_type": "code",
    "executionInfo": {
     "elapsed": 1819717,
     "status": "error",
     "timestamp": 1560279429417,
     "user": {
      "displayName": "Gonzalo Fernández",
      "photoUrl": "https://lh3.googleusercontent.com/-uWWuBZ_EsQ8/AAAAAAAAAAI/AAAAAAAAFDk/ASoR-_qaTd0/s64/photo.jpg",
      "userId": "07742164883455342150"
     },
     "user_tz": 180
    },
    "id": "0N0IqWNxpT28",
    "outputId": "be99f2b2-727d-4390-e778-3679c3f427eb"
   },
   "outputs": [],
   "source": [
    "t = 0\n",
    "for [_, x] in train[:25200]:\n",
    "    minim = inf\n",
    "\n",
    "    for i in range(map_kohonen.shape[0]):\n",
    "        for j in range(map_kohonen.shape[1]):\n",
    "            map_kohonen[i, j] = d_euclidean(x, W[i, j, :])\n",
    "            if (map_kohonen[i, j] < minim):\n",
    "                minim = map_kohonen[i, j]\n",
    "                g = [i, j]\n",
    "    \n",
    "    for i in range(W.shape[0]):\n",
    "        for j in range(W.shape[1]):\n",
    "            W[i, j, :] = update_w(W[i, j, :], x, [i, j], g, t, 1, ritmo_aprendizaje, vecindad)\n",
    "    \n",
    "    t += 1"
   ]
  },
  {
   "cell_type": "code",
   "execution_count": null,
   "metadata": {
    "colab": {},
    "colab_type": "code",
    "id": "hQDvBtOhpamD"
   },
   "outputs": [],
   "source": []
  }
 ],
 "metadata": {
  "accelerator": "GPU",
  "colab": {
   "collapsed_sections": [],
   "name": "kohonen.ipynb",
   "provenance": [],
   "toc_visible": true,
   "version": "0.3.2"
  },
  "kernelspec": {
   "display_name": "Python 3",
   "language": "python",
   "name": "python3"
  },
  "language_info": {
   "codemirror_mode": {
    "name": "ipython",
    "version": 3
   },
   "file_extension": ".py",
   "mimetype": "text/x-python",
   "name": "python",
   "nbconvert_exporter": "python",
   "pygments_lexer": "ipython3",
   "version": "3.7.3"
  }
 },
 "nbformat": 4,
 "nbformat_minor": 1
}
