{
 "cells": [
  {
   "cell_type": "markdown",
   "metadata": {
    "colab_type": "text",
    "id": "wFYYMtHZ2WCj"
   },
   "source": [
    "# Red tipo mapa de Kohonen\n",
    "---\n",
    "Implementación de red tipo mapa de Kohonen para reconocer caracteres manuscritos (clasificación con LVQ) y asociar caracteres parciales con caracteres completos (memoria asociativa)."
   ]
  },
  {
   "cell_type": "markdown",
   "metadata": {
    "colab_type": "text",
    "id": "E9z4aUrr8le4"
   },
   "source": [
    "## Dependencias"
   ]
  },
  {
   "cell_type": "code",
   "execution_count": 0,
   "metadata": {
    "colab": {},
    "colab_type": "code",
    "id": "57FFOB7a4ZRd"
   },
   "outputs": [],
   "source": [
    "import csv\n",
    "import numpy as np\n",
    "from math import inf\n",
    "\n",
    "from matplotlib import pyplot as plt\n",
    "\n",
    "from progressBar import printProgressBar # DESCARGAR DE REPOSITORIO progressBar.py"
   ]
  },
  {
   "cell_type": "markdown",
   "metadata": {
    "colab_type": "text",
    "id": "ehrIX4aK8o8U"
   },
   "source": [
    "## Funciones definidas"
   ]
  },
  {
   "cell_type": "markdown",
   "metadata": {
    "colab_type": "text",
    "id": "UiMksPZ03ydk"
   },
   "source": [
    "### Ritmo de aprendizaje $\\alpha(t)$\n",
    "Se seleccionó como ritmo de aprendizaje una función decreciente linealmente."
   ]
  },
  {
   "cell_type": "code",
   "execution_count": 0,
   "metadata": {
    "colab": {},
    "colab_type": "code",
    "id": "DCC084bC5siv"
   },
   "outputs": [],
   "source": [
    "def ritmo_aprendizaje(t, t_alfa=15000, alfa_0=0.6, alfa_f=0.01):\n",
    "    \"\"\"Obtener el coeficiente de ritmo de aprendizaje dada la iteración actual\n",
    "\n",
    "    Parameters\n",
    "    ----------\n",
    "    t : int\n",
    "        El número de iteración actual\n",
    "    t_alfa : int, optional\n",
    "        El máximo número de iteraciones para llegar a alfa_f. Por defecto 100\n",
    "    alfa_0 : float, optional\n",
    "        Ritmo de aprendizaje inicial abs(alfa_0) < 1.\n",
    "        Por defecto 0.7\n",
    "    alfa_f : float, optional\n",
    "        Ritmo de aprendizaje final. Por defecto 0.01\n",
    "\n",
    "    Returns\n",
    "    -------\n",
    "    float\n",
    "        El ritmo de aprendizaje para la iteración actual t\n",
    "    \"\"\"\n",
    "\n",
    "    if (t > t_alfa):\n",
    "        return alfa_f\n",
    "\n",
    "    # alfa = alfa_0 * (alfa_f / alfa_0)**(t / t_alfa)\n",
    "    alfa = alfa_0 + (alfa_f - alfa_0) * t / t_alfa\n",
    "    return alfa"
   ]
  },
  {
   "cell_type": "markdown",
   "metadata": {
    "colab_type": "text",
    "id": "FxsIF2sO32jK"
   },
   "source": [
    "### Función de vecindad $h(|\\bar{i}-\\bar{g}|, t)$\n",
    "Para comenzar, se eligió una función simple como es la escalón, donde el radio de vecindad R(t) desciende linealmente."
   ]
  },
  {
   "cell_type": "code",
   "execution_count": 0,
   "metadata": {
    "colab": {},
    "colab_type": "code",
    "id": "t9XtI39yZqxp"
   },
   "outputs": [],
   "source": [
    "def radio_vecindad(t, t_r=15000, R_0=3, R_f=1):\n",
    "    \"\"\"Obtener el radio de vecindad dada la iteración actual\n",
    "\n",
    "    Parameters\n",
    "    ----------\n",
    "    t : int\n",
    "        El número de iteración actual\n",
    "    t_r : int, optional\n",
    "        El máximo número de iteraciones para llegar a R_f. Por defecto 100\n",
    "    R_0 : int, float, optional\n",
    "        Radio de vecindad inicial. Por defecto 100\n",
    "    R_f : int, float, optional\n",
    "        Radio de vecindad final. Por defecto 1\n",
    "\n",
    "    Returns\n",
    "    -------\n",
    "    float\n",
    "        El radio de vecindad para la iteración actual t\n",
    "    \"\"\"\n",
    "\n",
    "    if (t > t_r):\n",
    "        return R_f\n",
    "\n",
    "    R = R_0 + (R_f - R_0) * t / t_r\n",
    "    return R"
   ]
  },
  {
   "cell_type": "code",
   "execution_count": 0,
   "metadata": {
    "colab": {},
    "colab_type": "code",
    "id": "928p1dNq5xfw"
   },
   "outputs": [],
   "source": [
    "def vecindad(i, g, t, R=radio_vecindad, r=3, total_iter=15000):\n",
    "    \"\"\"Función de vecindad escalón dado un determinado radio de vecindad\n",
    "    Determina si la neurona en cuestión está dentro del radio\n",
    "\n",
    "    Parameters\n",
    "    ----------\n",
    "    i : list\n",
    "        Posición en el mapa de la neurona ij.\n",
    "        La lista es de la forma [i, j], siendo i y j enteros\n",
    "    g : list\n",
    "        Posición en el mapa de la neurona ganadora para el vector entrada x.\n",
    "        Esta neurona ganadora es la de vector de pesos sinápticos más cercanos\n",
    "        al vector x\n",
    "        La lista es de la forma [i, j], siendo i y j enteros\n",
    "    t : int\n",
    "        El número de iteración actual\n",
    "    R : function, optional\n",
    "        Función que define el radio de vecindad a utilizar. \n",
    "        Por defecto es la función radio_vecindad definida en este archivo\n",
    "    r : int, optional\n",
    "        Radio inicial de vecindad, por defecto igual a 3 (optimizado)\n",
    "    total_iter : int, optional\n",
    "        Cantidad de iteraciones antes de llegar al valor final en radio de vecindad\n",
    "\n",
    "    Returns\n",
    "    -------\n",
    "    int\n",
    "        Se devuelve un 1 si la neurona en cuestión está dentro del radio\n",
    "        de vecindad; y un 0 en caso contrario\n",
    "    \"\"\"\n",
    "\n",
    "    aux = np.sqrt((i[0] - g[0])**2 + (i[1] - g[1])**2)\n",
    "    if (aux > R(t, t_r=total_iter, R_0=r)):\n",
    "        return 0\n",
    "    else:\n",
    "        return 1"
   ]
  },
  {
   "cell_type": "markdown",
   "metadata": {
    "colab_type": "text",
    "id": "voshfhMW3976"
   },
   "source": [
    "### Métricas de similitud\n",
    "Se seleccionó como métrica de similitud la distancia euclídea:\n",
    "\n",
    "$d^{2}(\\bar{w_{ij}}, \\bar{x}) = \\displaystyle\\sum_{k=1}^{n} (w_{ij} - x_{k})^{2}$"
   ]
  },
  {
   "cell_type": "code",
   "execution_count": 0,
   "metadata": {
    "colab": {},
    "colab_type": "code",
    "id": "SG7nkhRT54r1"
   },
   "outputs": [],
   "source": [
    "def d_euclidean(x, w):\n",
    "    \"\"\"Obtener la distancia euclideana entre los dos vectores x y w\n",
    "\n",
    "    Parameters\n",
    "    ----------\n",
    "    x : numpy array shape (dim,)\n",
    "        Primer vector unidimensional\n",
    "    w : numpy array shape (dim,)\n",
    "        Segundo vector unidimensional\n",
    "\n",
    "    Returns\n",
    "    -------\n",
    "    float\n",
    "        La distancia euclideana entre ambos vectores\n",
    "    \"\"\"\n",
    "    \n",
    "    return np.sqrt(np.sum(np.square(x - w)))\n"
   ]
  },
  {
   "cell_type": "markdown",
   "metadata": {
    "colab_type": "text",
    "id": "6KU0CK-l4Imr"
   },
   "source": [
    "### Reglas de aprendizaje para la métrica de similitud usada\n",
    "La regla de aprendizaje para la distancia euclídea es de la forma:\n",
    "\n",
    "$\\bar{w_{i}}(t+1) = \\bar{w_{i}}(t) + \\alpha(t) \\cdot h(|\\bar{i} - \\bar{g}|, t) \\cdot (x_{k}(t) - w_{ijk}(t))$"
   ]
  },
  {
   "cell_type": "code",
   "execution_count": 0,
   "metadata": {
    "colab": {},
    "colab_type": "code",
    "id": "Erl8Qao05-U-"
   },
   "outputs": [],
   "source": [
    "def update_w(w, x, i, g, t, lvq=1, ritmo_aprendizaje=ritmo_aprendizaje, vecindad=vecindad, alfa=0.6, R_0=3, dim_data=15000):\n",
    "    \"\"\"Actualización de pesos sinápticos W_ij dado un vector de entrada x\n",
    "\n",
    "    Parameters\n",
    "    ----------\n",
    "    w : numpy array shape (dim,)\n",
    "        Vector de pesos sinápticos W_ij\n",
    "    x : numpy array shape (dim,)\n",
    "        Vector de entrada x\n",
    "    i : list\n",
    "        Posición en el mapa de la neurona ij.\n",
    "        La lista es de la forma [i, j], siendo i y j enteros\n",
    "    g : list\n",
    "        Posición en el mapa de la neurona ganadora para el vector entrada x.\n",
    "        Esta neurona ganadora es la de vector de pesos sinápticos más cercanos\n",
    "        al vector x\n",
    "        La lista es de la forma [i, j], siendo i y j enteros\n",
    "    t : int\n",
    "        El número de iteración actual\n",
    "    lvq : int, optional\n",
    "        Coeficiente entero que puede ser -1 o 1. Puede utilizarse en caso de\n",
    "        utilizar LVQ (Learning Vector Quantization), e incrementará o \n",
    "        decrementará el vector de pesos sinápticos segun sea el caso\n",
    "    ritmo_aprendizaje : function, optional\n",
    "        Función que define el ritmo de aprendizaje a utilizar\n",
    "    vecindad : function, optional\n",
    "        Función que define la función de vecindad a utilizar\n",
    "    alfa : float, optional\n",
    "        Ritmo de aprendizaje inicial\n",
    "    R_0 : int, optional\n",
    "        Radio de vecindad inicial\n",
    "    dim_data: int, optional\n",
    "        Cantidad de iteraciones antes de llegar al valor final de\n",
    "        ritmo de aprendizaje y radio de vecindad\n",
    "\n",
    "    Returns\n",
    "    -------\n",
    "    numpy array shape (dim,)\n",
    "        Vector de pesos sinápticos W_ij actualizado\n",
    "    \"\"\"\n",
    "    \n",
    "    w_new = w + lvq * ritmo_aprendizaje(t, t_alfa=dim_data, alfa_0=alfa) * vecindad(i, g, t, r=R_0, total_iter=dim_data) * (x - w) \n",
    "    \n",
    "    return w_new"
   ]
  },
  {
   "cell_type": "markdown",
   "metadata": {
    "colab_type": "text",
    "id": "Lh1JpViV4Toq"
   },
   "source": [
    "### Obtención de neurona ganadora\n",
    "\n",
    "La neurona ganadora $\\bar{g}$ cumple:\n",
    "\n",
    "$\\bar{g} = \\text{arg}\\quad\\displaystyle\\text{min}_{ij}\\left[ d(\\bar{w_{ij}}, \\bar{x})\\right]$"
   ]
  },
  {
   "cell_type": "code",
   "execution_count": 0,
   "metadata": {
    "colab": {},
    "colab_type": "code",
    "id": "KB340d2s6PBk"
   },
   "outputs": [],
   "source": [
    "def winner(W, x, similarity=d_euclidean, map_k=None):\n",
    "    \"\"\"Obtener la neurona ganadora dada una entrada x\n",
    "\n",
    "    Parameters\n",
    "    ----------\n",
    "    W : numpy array shape (i, j, k)\n",
    "        Arreglo de i, j, k pesos sinápticos correspondientes a la red neuronal\n",
    "    x : numpy array shape (dim,)\n",
    "        Vector de entrada x\n",
    "    similarity : function, optional\n",
    "        Función que brinda la similiraridad entre dos vectores\n",
    "        Por defecto es la distancia euclideana entre los vectores\n",
    "\n",
    "    Returns\n",
    "    -------\n",
    "    list\n",
    "        Posición en el mapa de la neurona ganadora de la forma [i, j]\n",
    "    \"\"\"\n",
    "    \n",
    "    minim = inf\n",
    "    for i in range(W.shape[0]):\n",
    "        for j in range(W.shape[1]):\n",
    "            if (map_k is not None):\n",
    "                if (map_k[i, j] < 0):\n",
    "                    continue\n",
    "            aux = similarity(x, W[i, j, :])\n",
    "            if (aux < minim):\n",
    "                minim = aux\n",
    "                win = [i, j]\n",
    "    \n",
    "    return win"
   ]
  },
  {
   "cell_type": "markdown",
   "metadata": {
    "colab_type": "text",
    "id": "hmylwjeR9anG"
   },
   "source": [
    "## Análisis del dataset a utilizar\n",
    "\n",
    "El dataset es provisto por Keras. Estas imágenes son de 28 x 28 pixeles, es decir, la lista es de 784 números de 0 a 255.\n",
    "\n",
    "EL dataset brindado da las imágenes con etiqueta, por lo que se posee información de qué caracter corresponde a cada imágen.\n",
    "\n",
    "Con el fin de preparar los datos de entrada al algoritmo, se normalizan los valores de la imágen, pasando de 0 a 255 a valores entre -1 y 1, con posterior centrado en la media."
   ]
  },
  {
   "cell_type": "code",
   "execution_count": 0,
   "metadata": {
    "colab": {},
    "colab_type": "code",
    "id": "1zlmK0dXUfmI"
   },
   "outputs": [],
   "source": [
    "from keras.datasets import mnist\n",
    "\n",
    "(train_images, train_labels), (test_images, test_labels) = mnist.load_data()"
   ]
  },
  {
   "cell_type": "markdown",
   "metadata": {
    "colab_type": "text",
    "id": "pbBt-f8m25b9"
   },
   "source": [
    "Para poder observar los datos ingresados previo a implementar el algoritmo se reconstruyen una muestra de 3 imágenes del dataset:"
   ]
  },
  {
   "cell_type": "code",
   "execution_count": 0,
   "metadata": {
    "colab": {
     "base_uri": "https://localhost:8080/",
     "height": 307
    },
    "colab_type": "code",
    "executionInfo": {
     "elapsed": 1000,
     "status": "ok",
     "timestamp": 1560799291436,
     "user": {
      "displayName": "",
      "photoUrl": "",
      "userId": ""
     },
     "user_tz": 180
    },
    "id": "hi-1KYwOUg45",
    "outputId": "36fecbb5-00af-4f4e-e809-86a97590c47e"
   },
   "outputs": [
    {
     "name": "stdout",
     "output_type": "stream",
     "text": [
      "5\n",
      "(60000, 28, 28) (60000,)\n"
     ]
    },
    {
     "data": {
      "image/png": "[encoded data removed]",
      "text/plain": [
       "<Figure size 432x288 with 1 Axes>"
      ]
     },
     "metadata": {
      "tags": []
     },
     "output_type": "display_data"
    }
   ],
   "source": [
    "plt.imshow(train_images[0])\n",
    "print(train_labels[0])\n",
    "print(train_images.shape, train_labels.shape)"
   ]
  },
  {
   "cell_type": "markdown",
   "metadata": {
    "colab_type": "text",
    "id": "cNklq2gBFRYp"
   },
   "source": [
    "A continuación se realiza un acondicionamiento de los datos para utilizarlos como entradas de la red:"
   ]
  },
  {
   "cell_type": "code",
   "execution_count": 0,
   "metadata": {
    "colab": {
     "base_uri": "https://localhost:8080/",
     "height": 36
    },
    "colab_type": "code",
    "executionInfo": {
     "elapsed": 866,
     "status": "ok",
     "timestamp": 1560799293077,
     "user": {
      "displayName": "",
      "photoUrl": "",
      "userId": ""
     },
     "user_tz": 180
    },
    "id": "vrb-SiQkXJuz",
    "outputId": "24a8f9a5-1049-40b4-8a78-2940ff112478"
   },
   "outputs": [
    {
     "name": "stdout",
     "output_type": "stream",
     "text": [
      "(60000, 784)\n"
     ]
    }
   ],
   "source": [
    "train_images = train_images.reshape(train_images.shape[0], train_images.shape[1]*train_images.shape[2])\n",
    "train_images = train_images.astype('float32')\n",
    "print(train_images.shape)"
   ]
  },
  {
   "cell_type": "markdown",
   "metadata": {
    "colab_type": "text",
    "id": "Z9n4TtEJhw5j"
   },
   "source": [
    "### Normalización de los datos"
   ]
  },
  {
   "cell_type": "code",
   "execution_count": 0,
   "metadata": {
    "colab": {},
    "colab_type": "code",
    "id": "bOkimoryXj3I"
   },
   "outputs": [],
   "source": [
    "train_images /= 255"
   ]
  },
  {
   "cell_type": "markdown",
   "metadata": {
    "colab_type": "text",
    "id": "eTC2WU5Jh5uz"
   },
   "source": [
    "### Centrado en la media"
   ]
  },
  {
   "cell_type": "code",
   "execution_count": 0,
   "metadata": {
    "colab": {},
    "colab_type": "code",
    "id": "KSqJStYbXuD1"
   },
   "outputs": [],
   "source": [
    "for i in range(train_images[0].shape[0]):\n",
    "    train_images -= np.mean(train_images[:, i])"
   ]
  },
  {
   "cell_type": "markdown",
   "metadata": {
    "colab_type": "text",
    "id": "X4Nlvy_vNbRH"
   },
   "source": [
    "### Centrado en la media y normalización con desviación estándar [Opcional]"
   ]
  },
  {
   "cell_type": "code",
   "execution_count": 0,
   "metadata": {
    "colab": {},
    "colab_type": "code",
    "id": "YIzPasCUeJrv"
   },
   "outputs": [],
   "source": [
    "for i in range(train_images[0].shape[0]):\n",
    "    train_images -= np.mean(train_images[:, i])\n",
    "    if (np.isclose(np.std(train_images[:, i]), 0, 1e-4)):\n",
    "        continue\n",
    "    train_images = train_images / np.std(train_images[:, i])"
   ]
  },
  {
   "cell_type": "code",
   "execution_count": 0,
   "metadata": {
    "colab": {},
    "colab_type": "code",
    "id": "0kT9IYiC47Cq"
   },
   "outputs": [],
   "source": [
    "# dataset = get_data('train.csv')\n",
    "\n",
    "dataset = []\n",
    "\n",
    "for i in range(train_images.shape[0]):\n",
    "    dataset.append([train_labels[i], train_images[i]])"
   ]
  },
  {
   "cell_type": "markdown",
   "metadata": {
    "colab_type": "text",
    "id": "6fV9zJjz91f5"
   },
   "source": [
    "### División de dataset en train y test\n",
    "\n",
    "Para la evaluación del aprendizaje de la red se realizó **k-fold cross validation**, con $k=3$, es decir, se deja $1/3$ de los casos de entrenamiento para testing y el experimento se repite $3$ veces."
   ]
  },
  {
   "cell_type": "code",
   "execution_count": 0,
   "metadata": {
    "colab": {
     "base_uri": "https://localhost:8080/",
     "height": 36
    },
    "colab_type": "code",
    "executionInfo": {
     "elapsed": 17397,
     "status": "ok",
     "timestamp": 1560799326908,
     "user": {
      "displayName": "",
      "photoUrl": "",
      "userId": ""
     },
     "user_tz": 180
    },
    "id": "d7G7sWDb7Q6D",
    "outputId": "9d6056e4-bd2e-4e3b-9a08-ab64a2cf5f0f"
   },
   "outputs": [
    {
     "name": "stdout",
     "output_type": "stream",
     "text": [
      "60000 39600 20400\n"
     ]
    }
   ],
   "source": [
    "MAX = int(0.66 * len(dataset))\n",
    "\n",
    "data_train = dataset[:MAX]\n",
    "test = dataset[MAX:]\n",
    "\n",
    "print(len(dataset), len(data_train), len(test))"
   ]
  },
  {
   "cell_type": "code",
   "execution_count": 0,
   "metadata": {
    "colab": {
     "base_uri": "https://localhost:8080/",
     "height": 36
    },
    "colab_type": "code",
    "executionInfo": {
     "elapsed": 17195,
     "status": "ok",
     "timestamp": 1560799326911,
     "user": {
      "displayName": "",
      "photoUrl": "",
      "userId": ""
     },
     "user_tz": 180
    },
    "id": "RSoZ84K-6Daz",
    "outputId": "961ef3b2-9f99-4e62-b177-aeef6ee0a92b"
   },
   "outputs": [
    {
     "name": "stdout",
     "output_type": "stream",
     "text": [
      "39600 26136 13464\n"
     ]
    }
   ],
   "source": [
    "MAX_K = int(0.66 * len(data_train))\n",
    "\n",
    "train = data_train[:MAX_K]\n",
    "validation = data_train[MAX_K:]\n",
    "\n",
    "print(len(data_train), len(train), len(validation))"
   ]
  },
  {
   "cell_type": "markdown",
   "metadata": {
    "colab_type": "text",
    "id": "aFTEYwjC9e72"
   },
   "source": [
    "### Modelado de la red neuronal"
   ]
  },
  {
   "cell_type": "code",
   "execution_count": 0,
   "metadata": {
    "colab": {},
    "colab_type": "code",
    "id": "f6ml3TO76yHI"
   },
   "outputs": [],
   "source": [
    "map_kohonen = np.zeros((15, 15)) # Mapa de neuronas\n",
    "for i in range(map_kohonen.shape[0]):\n",
    "    for j in range(map_kohonen.shape[1]):\n",
    "        map_kohonen[i, j] = -1\n",
    "\n",
    "\n",
    "W = np.zeros((map_kohonen.shape[0], map_kohonen.shape[1], dataset[0][1].shape[0]))"
   ]
  },
  {
   "cell_type": "markdown",
   "metadata": {
    "colab_type": "text",
    "id": "nX8Aelvw9j6S"
   },
   "source": [
    "### Inicialización de pesos sinápticos\n",
    "\n",
    "Se inicializan los pesos sinápticos con números aleatorios pequeños tomados de una distribución Gaussiana con $\\mu=0$ y $\\sigma=1$:"
   ]
  },
  {
   "cell_type": "code",
   "execution_count": 0,
   "metadata": {
    "colab": {},
    "colab_type": "code",
    "id": "4aZUw2HZ7FvK"
   },
   "outputs": [],
   "source": [
    "mu = 0\n",
    "sigma = 0.2\n",
    "\n",
    "for i in range(W.shape[0]):\n",
    "    for j in range(W.shape[1]):\n",
    "        W[i, j, :] = np.random.normal(mu, sigma, W.shape[2])\n",
    "        # W[i, j, :] = np.random.uniform(low=-1.0, high=1.0, size=W.shape[2])"
   ]
  },
  {
   "cell_type": "markdown",
   "metadata": {
    "colab_type": "text",
    "id": "myK8vwZu9-fl"
   },
   "source": [
    "## Entrenamiento"
   ]
  },
  {
   "cell_type": "code",
   "execution_count": 0,
   "metadata": {
    "colab": {
     "base_uri": "https://localhost:8080/",
     "height": 36
    },
    "colab_type": "code",
    "executionInfo": {
     "elapsed": 118452,
     "status": "ok",
     "timestamp": 1560799434556,
     "user": {
      "displayName": "",
      "photoUrl": "",
      "userId": ""
     },
     "user_tz": 180
    },
    "id": "xGVdDCj87S-T",
    "outputId": "4d358b93-75a1-4b78-cf73-a07357229b68"
   },
   "outputs": [
    {
     "name": "stdout",
     "output_type": "stream",
     "text": [
      " |████████████████████████████████████████████████████████████████████████████████████████████████████| 100.0% \n"
     ]
    }
   ],
   "source": [
    "t = 0\n",
    "printProgressBar(t, len(train))\n",
    "for [_, x] in train:\n",
    "\n",
    "    g = winner(W, x)\n",
    "\n",
    "    for i in range(W.shape[0]):\n",
    "        for j in range(W.shape[1]):\n",
    "            W[i, j, :] = update_w(W[i, j, :], x, [i, j], g, t, lvq=1)\n",
    "\n",
    "    t += 1\n",
    "    printProgressBar(t, len(train))"
   ]
  },
  {
   "cell_type": "markdown",
   "metadata": {
    "colab_type": "text",
    "id": "A31Uu5PQ8xF3"
   },
   "source": [
    "## Learning Vector Quantization (LVQ)"
   ]
  },
  {
   "cell_type": "markdown",
   "metadata": {
    "colab_type": "text",
    "id": "0e02E_9rANLR"
   },
   "source": [
    "### Inicialización del mapa"
   ]
  },
  {
   "cell_type": "markdown",
   "metadata": {
    "colab_type": "text",
    "id": "DIS7RtAhAZuC"
   },
   "source": [
    "Muestra representativa de cada clase"
   ]
  },
  {
   "cell_type": "code",
   "execution_count": 0,
   "metadata": {
    "colab": {},
    "colab_type": "code",
    "id": "Q-7_q4jK8QFb"
   },
   "outputs": [],
   "source": [
    "sample = []\n",
    "ctrl = list(range(0, 10))\n",
    "for [label, x] in train:\n",
    "    label = int(label)\n",
    "    if (label in ctrl):\n",
    "        ctrl.remove(label)\n",
    "        sample.append([label, x])\n",
    "    if not ctrl:\n",
    "        break"
   ]
  },
  {
   "cell_type": "markdown",
   "metadata": {
    "colab_type": "text",
    "id": "iE7iKVh8A5XD"
   },
   "source": [
    "#### Asignación de clases"
   ]
  },
  {
   "cell_type": "markdown",
   "metadata": {
    "colab_type": "text",
    "id": "i_JC0Dgs4tOE"
   },
   "source": [
    "Asignación de clases con muestras del dataset:"
   ]
  },
  {
   "cell_type": "code",
   "execution_count": 0,
   "metadata": {
    "colab": {},
    "colab_type": "code",
    "id": "9LOihCAcDaHr"
   },
   "outputs": [],
   "source": [
    "def r_aux(a, t_r=1, R_0=1):\n",
    "    return R_0"
   ]
  },
  {
   "cell_type": "code",
   "execution_count": 0,
   "metadata": {
    "colab": {},
    "colab_type": "code",
    "id": "nl12bak2AgLl"
   },
   "outputs": [],
   "source": [
    "for [label, x] in sample:\n",
    "    g = winner(W, x)\n",
    "    for i in range(W.shape[0]):\n",
    "        for j in range(W.shape[1]):\n",
    "            if (vecindad([i, j], g, 0, R=r_aux)):\n",
    "                map_kohonen[i, j] = int(label)"
   ]
  },
  {
   "cell_type": "markdown",
   "metadata": {
    "colab_type": "text",
    "id": "-Ca7Sq3E4ztf"
   },
   "source": [
    "Asignación de clases a través de algoritmo **K-Means**: [Opcional, no se obtuvieron buenos resultados]"
   ]
  },
  {
   "cell_type": "code",
   "execution_count": 0,
   "metadata": {
    "colab": {},
    "colab_type": "code",
    "id": "IZtGIgoWv-cA"
   },
   "outputs": [],
   "source": [
    "def kmeans(map_kohonen, W, sample):\n",
    "\n",
    "    # Asignación de centroides iniciales\n",
    "    means = []\n",
    "    for [label, x] in sample:\n",
    "        g = winner(W, x)\n",
    "        means.append([label, g])\n",
    "\n",
    "    # Actualización de centroides\n",
    "    iter = 0\n",
    "    printProgressBar(iter, 50)\n",
    "    while (iter < 50):\n",
    "        minim = inf\n",
    "        for i in range(W.shape[0]):\n",
    "            for j in range(W.shape[1]):\n",
    "                for [label, mean] in means:\n",
    "                    aux = d_euclidean(W[mean[0], mean[1], :], W[i, j, :])\n",
    "                    if (aux < minim):\n",
    "                        minim = aux\n",
    "                        map_kohonen[i, j] = label\n",
    "\n",
    "        sum = np.zeros((10, W.shape[2]))\n",
    "        dim = np.zeros((10,))\n",
    "        for i in range(map_kohonen.shape[0]):\n",
    "            for j in range(map_kohonen.shape[1]):\n",
    "                label = int(map_kohonen[i, j])\n",
    "                sum[label, :] += W[i, j, :]\n",
    "                dim[label] += 1\n",
    "\n",
    "        means = []\n",
    "        for [label, mean] in means:\n",
    "            x = sum[label, :] / dim[label]\n",
    "            means.append(winner(W, x))\n",
    "\n",
    "        iter += 1\n",
    "        printProgressBar(iter, 50)\n",
    "    \n",
    "    return map_kohonen"
   ]
  },
  {
   "cell_type": "code",
   "execution_count": 0,
   "metadata": {
    "colab": {
     "base_uri": "https://localhost:8080/",
     "height": 36
    },
    "colab_type": "code",
    "executionInfo": {
     "elapsed": 1191,
     "status": "ok",
     "timestamp": 1560637393667,
     "user": {
      "displayName": "",
      "photoUrl": "",
      "userId": ""
     },
     "user_tz": 180
    },
    "id": "6jM2nzQcyBNb",
    "outputId": "4b27f1cb-2666-4e60-b303-3c78a2fcb338"
   },
   "outputs": [
    {
     "name": "stdout",
     "output_type": "stream",
     "text": [
      "\r",
      " |----------------------------------------------------------------------------------------------------| 0.0% \r",
      "\r",
      " |██--------------------------------------------------------------------------------------------------| 2.0% \r",
      "\r",
      " |████------------------------------------------------------------------------------------------------| 4.0% \r",
      "\r",
      " |██████----------------------------------------------------------------------------------------------| 6.0% \r",
      "\r",
      " |████████--------------------------------------------------------------------------------------------| 8.0% \r",
      "\r",
      " |██████████------------------------------------------------------------------------------------------| 10.0% \r",
      "\r",
      " |████████████----------------------------------------------------------------------------------------| 12.0% \r",
      "\r",
      " |██████████████--------------------------------------------------------------------------------------| 14.0% \r",
      "\r",
      " |████████████████------------------------------------------------------------------------------------| 16.0% \r",
      "\r",
      " |██████████████████----------------------------------------------------------------------------------| 18.0% \r",
      "\r",
      " |████████████████████--------------------------------------------------------------------------------| 20.0% \r",
      "\r",
      " |██████████████████████------------------------------------------------------------------------------| 22.0% \r",
      "\r",
      " |████████████████████████----------------------------------------------------------------------------| 24.0% \r",
      "\r",
      " |██████████████████████████--------------------------------------------------------------------------| 26.0% \r",
      "\r",
      " |████████████████████████████------------------------------------------------------------------------| 28.0% \r",
      "\r",
      " |██████████████████████████████----------------------------------------------------------------------| 30.0% \r",
      "\r",
      " |████████████████████████████████--------------------------------------------------------------------| 32.0% \r",
      "\r",
      " |██████████████████████████████████------------------------------------------------------------------| 34.0% \r",
      "\r",
      " |████████████████████████████████████----------------------------------------------------------------| 36.0% \r",
      "\r",
      " |██████████████████████████████████████--------------------------------------------------------------| 38.0% \r",
      "\r",
      " |████████████████████████████████████████------------------------------------------------------------| 40.0% \r",
      "\r",
      " |██████████████████████████████████████████----------------------------------------------------------| 42.0% \r",
      "\r",
      " |████████████████████████████████████████████--------------------------------------------------------| 44.0% \r",
      "\r",
      " |██████████████████████████████████████████████------------------------------------------------------| 46.0% \r",
      "\r",
      " |████████████████████████████████████████████████----------------------------------------------------| 48.0% \r",
      "\r",
      " |██████████████████████████████████████████████████--------------------------------------------------| 50.0% \r",
      "\r",
      " |████████████████████████████████████████████████████------------------------------------------------| 52.0% \r",
      "\r",
      " |██████████████████████████████████████████████████████----------------------------------------------| 54.0% \r",
      "\r",
      " |████████████████████████████████████████████████████████--------------------------------------------| 56.0% \r",
      "\r",
      " |██████████████████████████████████████████████████████████------------------------------------------| 58.0% \r",
      "\r",
      " |████████████████████████████████████████████████████████████----------------------------------------| 60.0% \r",
      "\r",
      " |██████████████████████████████████████████████████████████████--------------------------------------| 62.0% \r",
      "\r",
      " |████████████████████████████████████████████████████████████████------------------------------------| 64.0% \r",
      "\r",
      " |██████████████████████████████████████████████████████████████████----------------------------------| 66.0% \r",
      "\r",
      " |████████████████████████████████████████████████████████████████████--------------------------------| 68.0% \r",
      "\r",
      " |██████████████████████████████████████████████████████████████████████------------------------------| 70.0% \r",
      "\r",
      " |████████████████████████████████████████████████████████████████████████----------------------------| 72.0% \r",
      "\r",
      " |██████████████████████████████████████████████████████████████████████████--------------------------| 74.0% \r",
      "\r",
      " |████████████████████████████████████████████████████████████████████████████------------------------| 76.0% \r",
      "\r",
      " |██████████████████████████████████████████████████████████████████████████████----------------------| 78.0% \r",
      "\r",
      " |████████████████████████████████████████████████████████████████████████████████--------------------| 80.0% \r",
      "\r",
      " |██████████████████████████████████████████████████████████████████████████████████------------------| 82.0% \r",
      "\r",
      " |████████████████████████████████████████████████████████████████████████████████████----------------| 84.0% \r",
      "\r",
      " |██████████████████████████████████████████████████████████████████████████████████████--------------| 86.0% \r",
      "\r",
      " |████████████████████████████████████████████████████████████████████████████████████████------------| 88.0% \r",
      "\r",
      " |██████████████████████████████████████████████████████████████████████████████████████████----------| 90.0% \r",
      "\r",
      " |████████████████████████████████████████████████████████████████████████████████████████████--------| 92.0% \r",
      "\r",
      " |██████████████████████████████████████████████████████████████████████████████████████████████------| 94.0% \r",
      "\r",
      " |████████████████████████████████████████████████████████████████████████████████████████████████----| 96.0% \r",
      "\r",
      " |██████████████████████████████████████████████████████████████████████████████████████████████████--| 98.0% \r",
      "\r",
      " |████████████████████████████████████████████████████████████████████████████████████████████████████| 100.0% \r\n"
     ]
    }
   ],
   "source": [
    "map_kohonen = kmeans(map_kohonen, W, sample)"
   ]
  },
  {
   "cell_type": "markdown",
   "metadata": {
    "colab_type": "text",
    "id": "9gydflzzAJVl"
   },
   "source": [
    "### Ajuste fino"
   ]
  },
  {
   "cell_type": "code",
   "execution_count": 0,
   "metadata": {
    "colab": {
     "base_uri": "https://localhost:8080/",
     "height": 36
    },
    "colab_type": "code",
    "executionInfo": {
     "elapsed": 170895,
     "status": "ok",
     "timestamp": 1560799496535,
     "user": {
      "displayName": "",
      "photoUrl": "",
      "userId": ""
     },
     "user_tz": 180
    },
    "id": "Iej_iFJ27oXV",
    "outputId": "1d2ddd4a-9981-47b9-86c7-d976b5fc4eeb"
   },
   "outputs": [
    {
     "name": "stdout",
     "output_type": "stream",
     "text": [
      " |████████████████████████████████████████████████████████████████████████████████████████████████████| 100.0% \n"
     ]
    }
   ],
   "source": [
    "t = 0\n",
    "printProgressBar(t, len(train))\n",
    "\n",
    "for [label, x] in train:\n",
    "\n",
    "    label = int(label)\n",
    "    [i, j] = winner(W, x)\n",
    "\n",
    "    if (map_kohonen[i, j] == label):\n",
    "        lvq_c = 1\n",
    "    else:\n",
    "        lvq_c = -1\n",
    "\n",
    "    W[i, j, :] += lvq_c * ritmo_aprendizaje(t, alfa_0=0.4) * (x - W[i, j, :])\n",
    "\n",
    "    t += 1\n",
    "    printProgressBar(t, len(train))"
   ]
  },
  {
   "cell_type": "markdown",
   "metadata": {
    "colab_type": "text",
    "id": "YQErqD4KNhWY"
   },
   "source": [
    "### Visualización del mapa"
   ]
  },
  {
   "cell_type": "code",
   "execution_count": 0,
   "metadata": {
    "colab": {},
    "colab_type": "code",
    "id": "SxSl0ci96GC_"
   },
   "outputs": [],
   "source": [
    "def printMap(map_kohonen):\n",
    "    \"\"\"Plotear el mapa de kohonen marcando las diferentes clases\n",
    "\n",
    "    Parameters\n",
    "    ----------\n",
    "    map_kohonen : numpy array shape(i, j, k)\n",
    "        Mapa de kohonen a plotear\n",
    "    \"\"\"\n",
    "    \n",
    "    colors = ['xb', 'xg', 'xr', 'xc', 'xm', 'xy', 'xk', 'ob', 'og', 'or']\n",
    "    \n",
    "    \n",
    "    for i in range(map_kohonen.shape[0]):\n",
    "        for j in range(map_kohonen.shape[1]):\n",
    "            if (map_kohonen[i, j] < 0):\n",
    "                continue\n",
    "            digit = int(map_kohonen[i, j])\n",
    "            plt.plot(i, j, str(colors[digit]), '*', label=str(digit))\n",
    "    \n",
    "    # plt.legend(loc='upper center', bbox_to_anchor=(1.2, 0.8), shadow=True, ncol=1)\n",
    "    plt.grid()\n",
    "    plt.show()"
   ]
  },
  {
   "cell_type": "code",
   "execution_count": 0,
   "metadata": {
    "colab": {
     "base_uri": "https://localhost:8080/",
     "height": 269
    },
    "colab_type": "code",
    "executionInfo": {
     "elapsed": 168084,
     "status": "ok",
     "timestamp": 1560799497256,
     "user": {
      "displayName": "",
      "photoUrl": "",
      "userId": ""
     },
     "user_tz": 180
    },
    "id": "GEdtVtCm6ol8",
    "outputId": "a9043e40-5bfd-42bb-d2b6-48c2cb4fb565"
   },
   "outputs": [
    {
     "data": {
      "image/png": "[encoded data removed]",
      "text/plain": [
       "<Figure size 432x288 with 1 Axes>"
      ]
     },
     "metadata": {
      "tags": []
     },
     "output_type": "display_data"
    }
   ],
   "source": [
    "printMap(map_kohonen)"
   ]
  },
  {
   "cell_type": "markdown",
   "metadata": {
    "colab_type": "text",
    "id": "MomdcDmU83KU"
   },
   "source": [
    "## Test"
   ]
  },
  {
   "cell_type": "code",
   "execution_count": 0,
   "metadata": {
    "colab": {
     "base_uri": "https://localhost:8080/",
     "height": 17
    },
    "colab_type": "code",
    "executionInfo": {
     "elapsed": 191477,
     "status": "ok",
     "timestamp": 1560799523108,
     "user": {
      "displayName": "",
      "photoUrl": "",
      "userId": ""
     },
     "user_tz": 180
    },
    "id": "TBLC53QB8Rdc",
    "outputId": "c8124949-e41a-429c-c7cb-d65a9bcc3a4e"
   },
   "outputs": [
    {
     "name": "stdout",
     "output_type": "stream",
     "text": []
    }
   ],
   "source": [
    "t = 0\n",
    "printProgressBar(t, len(validation))\n",
    "\n",
    "ans = []\n",
    "\n",
    "for [label, x] in validation:\n",
    "\n",
    "    label = int(label)\n",
    "    [i, j] = winner(W, x, map_k=map_kohonen)\n",
    "    ans.append([i, j])\n",
    "\n",
    "    if (map_kohonen[i, j] == label):\n",
    "        t +=1\n",
    "        printProgressBar(t, len(validation))"
   ]
  },
  {
   "cell_type": "code",
   "execution_count": 0,
   "metadata": {
    "colab": {
     "base_uri": "https://localhost:8080/",
     "height": 36
    },
    "colab_type": "code",
    "executionInfo": {
     "elapsed": 191266,
     "status": "ok",
     "timestamp": 1560799523116,
     "user": {
      "displayName": "",
      "photoUrl": "",
      "userId": ""
     },
     "user_tz": 180
    },
    "id": "LTHWp24s6QTX",
    "outputId": "cc1d59ee-774e-4656-9c08-b6303fdd64a3"
   },
   "outputs": [
    {
     "name": "stdout",
     "output_type": "stream",
     "text": [
      "90.10695187165776\n"
     ]
    }
   ],
   "source": [
    "print(t*100/len(validation))"
   ]
  },
  {
   "cell_type": "markdown",
   "metadata": {
    "colab_type": "text",
    "id": "5MTSwzJkLzjQ"
   },
   "source": [
    "## Optimización de hiperparámetros de la red"
   ]
  },
  {
   "cell_type": "code",
   "execution_count": 0,
   "metadata": {
    "colab": {
     "base_uri": "https://localhost:8080/",
     "height": 382
    },
    "colab_type": "code",
    "executionInfo": {
     "elapsed": 1568349,
     "status": "ok",
     "timestamp": 1560791094521,
     "user": {
      "displayName": "",
      "photoUrl": "",
      "userId": ""
     },
     "user_tz": 180
    },
    "id": "1K1FM9xMmkvz",
    "outputId": "ce7dbe57-fe55-4924-df18-fb130b644e7e"
   },
   "outputs": [
    {
     "name": "stdout",
     "output_type": "stream",
     "text": [
      "(60000, 784)\n",
      "60000 39600 20400\n",
      "39600 26136 13464\n",
      " |████████████████████████████████████████████████████████████████████████████████████████████████████| 100.0% \n",
      " |████████████████████████████████████████████████████████████████████████████████████████████████████| 100.0% \n",
      " |████████████████████████████████████████████████████████████████████████████████████████████████████| 100.0% \n",
      " |████████████████████████████████████████████████████████████████████████████████████████████████████| 100.0% \n",
      " |████████████████████████████████████████████████████████████████████████████████████████████████████| 100.0% \n",
      " |████████████████████████████████████████████████████████████████████████████████████████████████████| 100.0% \n",
      " |████████████████████████████████████████████████████████████████████████████████████████████████████| 100.0% \n",
      " |████████████████████████████████████████████████████████████████████████████████████████████████████| 100.0% \n",
      " |████████████████████████████████████████████████████████████████████████████████████████████████████| 100.0% \n",
      " |████████████████████████████████████████████████████████████████████████████████████████████████████| 100.0% \n",
      " |████████████████████████████████████████████████████████████████████████████████████████████████████| 100.0% \n",
      " |████████████████████████████████████████████████████████████████████████████████████████████████████| 100.0% \n",
      " |████████████████████████████████████████████████████████████████████████████████████████████████████| 100.0% \n",
      " |████████████████████████████████████████████████████████████████████████████████████████████████████| 100.0% \n",
      " |████████████████████████████████████████████████████████████████████████████████████████████████████| 100.0% \n",
      " |████████████████████████████████████████████████████████████████████████████████████████████████████| 100.0% \n"
     ]
    }
   ],
   "source": [
    "# ANALISIS DEL DATASET\n",
    "\n",
    "from keras.datasets import mnist\n",
    "\n",
    "(train_images, train_labels), (test_images, test_labels) = mnist.load_data()\n",
    "\n",
    "train_images = train_images.reshape(train_images.shape[0], train_images.shape[1]*train_images.shape[2])\n",
    "train_images = train_images.astype('float32')\n",
    "print(train_images.shape)\n",
    "\n",
    "# Normalización\n",
    "# for [label, img] in dataset:\n",
    "#     img /= 255\n",
    "\n",
    "train_images /= 255\n",
    "\n",
    "# Centrado en la media\n",
    "for i in range(train_images[0].shape[0]):\n",
    "    train_images -= np.mean(train_images[:, i])\n",
    "    \n",
    "\n",
    "dataset = []\n",
    "\n",
    "for i in range(train_images.shape[0]):\n",
    "    dataset.append([train_labels[i], train_images[i]])\n",
    "\n",
    "# DIVISIÓN DE TRAIN Y VALIDATION\n",
    "        \n",
    "MAX = int(0.66 * len(dataset))\n",
    "\n",
    "data_train = dataset[:MAX]\n",
    "test = dataset[MAX:]\n",
    "\n",
    "print(len(dataset), len(data_train), len(test))\n",
    "\n",
    "MAX_K = int(0.66 * len(data_train))\n",
    "\n",
    "train = data_train[:MAX_K]\n",
    "validation = data_train[MAX_K:]\n",
    "\n",
    "print(len(data_train), len(train), len(validation))\n",
    "\n",
    "performance = []\n",
    "\n",
    "\n",
    "for prop in np.arange(0.1, 0.9, 0.1):\n",
    "    \n",
    "    # INICIALIZACIÓN DE LA RED NEURONAL\n",
    "    map_kohonen = np.zeros((15, 15)) # Mapa de neuronas\n",
    "    for i in range(map_kohonen.shape[0]):\n",
    "        for j in range(map_kohonen.shape[1]):\n",
    "            map_kohonen[i, j] = -1\n",
    "\n",
    "\n",
    "    W = np.zeros((map_kohonen.shape[0], map_kohonen.shape[1], dataset[0][1].shape[0]))\n",
    "\n",
    "    mu = 0\n",
    "    sigma = 0.2\n",
    "\n",
    "    for i in range(W.shape[0]):\n",
    "        for j in range(W.shape[1]):\n",
    "            W[i, j, :] = np.random.normal(mu, sigma, W.shape[2])\n",
    "            # W[i, j, :] = np.random.uniform(low=-1.0, high=1.0, size=W.shape[2])\n",
    "\n",
    "    # ENTRENAMIENTO\n",
    "    t = 0\n",
    "    printProgressBar(t, len(train))\n",
    "    for [_, x] in train:\n",
    "\n",
    "        g = winner(W, x)\n",
    "\n",
    "        for i in range(W.shape[0]):\n",
    "            for j in range(W.shape[1]):\n",
    "                W[i, j, :] = update_w(W[i, j, :], x, [i, j], g, t, lvq=1, dim_data=int(prop*len(train)))\n",
    "\n",
    "        t += 1\n",
    "        printProgressBar(t, len(train))\n",
    "\n",
    "    # LVQ\n",
    "    # Extracción de muestras\n",
    "    sample = []\n",
    "    ctrl = list(range(0, 10))\n",
    "    for [label, x] in train:\n",
    "        label = int(label)\n",
    "        if (label in ctrl):\n",
    "            ctrl.remove(label)\n",
    "            sample.append([label, x])\n",
    "        if not ctrl:\n",
    "            break\n",
    "    \n",
    "    # vecindad(i, g, t, R=radio_vecindad, r=3)\n",
    "    for [label, x] in sample:\n",
    "        g = winner(W, x)\n",
    "        for i in range(W.shape[0]):\n",
    "            for j in range(W.shape[1]):\n",
    "                if (vecindad([i, j], g, 0, R=r_aux)):\n",
    "                    map_kohonen[i, j] = int(label)\n",
    "\n",
    "    # Ajuste fino\n",
    "    t = 0\n",
    "    printProgressBar(t, len(train))\n",
    "\n",
    "    for [label, x] in train:\n",
    "\n",
    "        label = int(label)\n",
    "        [i, j] = winner(W, x)\n",
    "\n",
    "        if (map_kohonen[i, j] == label):\n",
    "            lvq_c = 1\n",
    "        else:\n",
    "            lvq_c = -1\n",
    "\n",
    "        W[i, j, :] += lvq_c * ritmo_aprendizaje(t, alfa_0=alfa) * (x - W[i, j, :])\n",
    "\n",
    "        t += 1\n",
    "        printProgressBar(t, len(train))\n",
    "\n",
    "    # printMap(map_kohonen)\n",
    "\n",
    "    # VALIDATION\n",
    "    t = 0\n",
    "    printProgressBar(t, len(validation))\n",
    "\n",
    "    ans = []\n",
    "\n",
    "    for [label, x] in validation:\n",
    "\n",
    "        label = int(label)\n",
    "        [i, j] = winner(W, x, map_k=map_kohonen)\n",
    "        ans.append([i, j])\n",
    "\n",
    "        if (map_kohonen[i, j] == label):\n",
    "            t +=1\n",
    "            printProgressBar(t, len(validation))\n",
    "\n",
    "    performance.append(t*100/len(validation))"
   ]
  },
  {
   "cell_type": "code",
   "execution_count": 0,
   "metadata": {
    "colab": {},
    "colab_type": "code",
    "id": "TOgHQtPiXZLa"
   },
   "outputs": [],
   "source": [
    "plt.style.use('ggplot')"
   ]
  },
  {
   "cell_type": "markdown",
   "metadata": {
    "colab_type": "text",
    "id": "5UFOlsHqPdpE"
   },
   "source": [
    "### Optimización de $\\alpha_0$ en entrenamiento"
   ]
  },
  {
   "cell_type": "code",
   "execution_count": 0,
   "metadata": {
    "colab": {
     "base_uri": "https://localhost:8080/",
     "height": 319
    },
    "colab_type": "code",
    "executionInfo": {
     "elapsed": 1543,
     "status": "ok",
     "timestamp": 1560639704390,
     "user": {
      "displayName": "",
      "photoUrl": "",
      "userId": ""
     },
     "user_tz": 180
    },
    "id": "BySQ2AyoR3Fq",
    "outputId": "51eef848-e617-47c0-e0b8-69832bdbf732"
   },
   "outputs": [
    {
     "data": {
      "text/plain": [
       "Text(0, 0.5, 'Validation')"
      ]
     },
     "execution_count": 123,
     "metadata": {
      "tags": []
     },
     "output_type": "execute_result"
    },
    {
     "data": {
      "image/png": "[encoded data removed]",
      "text/plain": [
       "<Figure size 432x288 with 1 Axes>"
      ]
     },
     "metadata": {
      "tags": []
     },
     "output_type": "display_data"
    }
   ],
   "source": [
    "alfa = np.arange(0.3, 0.9, 0.1)\n",
    "plt.plot(alfa, performance)\n",
    "\n",
    "plt.title(\"Optimización de alfa inicial en entrenamiento\")\n",
    "plt.xlabel(\"alfa\")\n",
    "plt.ylabel(\"Validation\")"
   ]
  },
  {
   "cell_type": "markdown",
   "metadata": {
    "colab_type": "text",
    "id": "MBtZVNjLMJnc"
   },
   "source": [
    "### Optimización de R inicial en entranamiento"
   ]
  },
  {
   "cell_type": "code",
   "execution_count": 0,
   "metadata": {
    "colab": {
     "base_uri": "https://localhost:8080/",
     "height": 319
    },
    "colab_type": "code",
    "executionInfo": {
     "elapsed": 1959,
     "status": "ok",
     "timestamp": 1560641969934,
     "user": {
      "displayName": "",
      "photoUrl": "",
      "userId": ""
     },
     "user_tz": 180
    },
    "id": "8QS72j_Rgdjs",
    "outputId": "d5cd3715-e617-41e4-e90f-f41c1b81223d"
   },
   "outputs": [
    {
     "data": {
      "text/plain": [
       "Text(0, 0.5, 'Validation')"
      ]
     },
     "execution_count": 150,
     "metadata": {
      "tags": []
     },
     "output_type": "execute_result"
    },
    {
     "data": {
      "image/png": "[encoded data removed]",
      "text/plain": [
       "<Figure size 432x288 with 1 Axes>"
      ]
     },
     "metadata": {
      "tags": []
     },
     "output_type": "display_data"
    }
   ],
   "source": [
    "R = np.arange(1, 7, 1)\n",
    "plt.plot(R, performance)\n",
    "\n",
    "plt.title(\"Optimización de R inicial en entrenamiento\")\n",
    "plt.xlabel(\"R\")\n",
    "plt.ylabel(\"Validation\")"
   ]
  },
  {
   "cell_type": "markdown",
   "metadata": {
    "colab_type": "text",
    "id": "TBBAj5m7MOul"
   },
   "source": [
    "### Optimización de R en inicialización del mapa de Kohonen para algoritmo LVQ"
   ]
  },
  {
   "cell_type": "code",
   "execution_count": 0,
   "metadata": {
    "colab": {
     "base_uri": "https://localhost:8080/",
     "height": 319
    },
    "colab_type": "code",
    "executionInfo": {
     "elapsed": 1314,
     "status": "ok",
     "timestamp": 1560643861080,
     "user": {
      "displayName": "",
      "photoUrl": "",
      "userId": ""
     },
     "user_tz": 180
    },
    "id": "GTH4Y2ftngXb",
    "outputId": "a885f428-7960-42a6-bd72-aaa074e47507"
   },
   "outputs": [
    {
     "data": {
      "text/plain": [
       "Text(0, 0.5, 'Validation')"
      ]
     },
     "execution_count": 157,
     "metadata": {
      "tags": []
     },
     "output_type": "execute_result"
    },
    {
     "data": {
      "image/png": "[encoded data removed]",
      "text/plain": [
       "<Figure size 432x288 with 1 Axes>"
      ]
     },
     "metadata": {
      "tags": []
     },
     "output_type": "display_data"
    }
   ],
   "source": [
    "R_init = np.arange(0, 7, 1)\n",
    "plt.plot(R_init, performance)\n",
    "\n",
    "plt.title(\"Optimización de R en inicialización de mapa para LVQ\")\n",
    "plt.xlabel(\"R inicio LVQ\")\n",
    "plt.ylabel(\"Validation\")"
   ]
  },
  {
   "cell_type": "markdown",
   "metadata": {
    "colab_type": "text",
    "id": "KEer2dI2MYhE"
   },
   "source": [
    "### Optimización de $\\alpha_0$ para ritmo de aprendizaje de algoritmo LVQ"
   ]
  },
  {
   "cell_type": "code",
   "execution_count": 0,
   "metadata": {
    "colab": {
     "base_uri": "https://localhost:8080/",
     "height": 319
    },
    "colab_type": "code",
    "executionInfo": {
     "elapsed": 953,
     "status": "ok",
     "timestamp": 1560786903684,
     "user": {
      "displayName": "",
      "photoUrl": "",
      "userId": ""
     },
     "user_tz": 180
    },
    "id": "erqNKeZ5B2ni",
    "outputId": "876f975f-e5ec-4fb0-ca37-47f706f0f18b"
   },
   "outputs": [
    {
     "data": {
      "text/plain": [
       "Text(0, 0.5, 'Validation')"
      ]
     },
     "execution_count": 19,
     "metadata": {
      "tags": []
     },
     "output_type": "execute_result"
    },
    {
     "data": {
      "image/png": "[encoded data removed]",
      "text/plain": [
       "<Figure size 432x288 with 1 Axes>"
      ]
     },
     "metadata": {
      "tags": []
     },
     "output_type": "display_data"
    }
   ],
   "source": [
    "alfa_lvq = np.arange(0.1, 0.9, 0.1)\n",
    "plt.plot(alfa_lvq, performance)\n",
    "\n",
    "plt.title(\"Optimización de alfa inicial en LVQ\")\n",
    "plt.xlabel(\"alfa\")\n",
    "plt.ylabel(\"Validation\")"
   ]
  },
  {
   "cell_type": "code",
   "execution_count": 0,
   "metadata": {
    "colab": {
     "base_uri": "https://localhost:8080/",
     "height": 319
    },
    "colab_type": "code",
    "executionInfo": {
     "elapsed": 1003,
     "status": "ok",
     "timestamp": 1560791394734,
     "user": {
      "displayName": "",
      "photoUrl": "",
      "userId": ""
     },
     "user_tz": 180
    },
    "id": "FCO3cpU8Xqk0",
    "outputId": "52dd65ba-bf2c-4158-9c90-ac3fdf352a67"
   },
   "outputs": [
    {
     "data": {
      "text/plain": [
       "Text(0, 0.5, 'Validation')"
      ]
     },
     "execution_count": 48,
     "metadata": {
      "tags": []
     },
     "output_type": "execute_result"
    },
    {
     "data": {
      "image/png": "[encoded data removed]",
      "text/plain": [
       "<Figure size 432x288 with 1 Axes>"
      ]
     },
     "metadata": {
      "tags": []
     },
     "output_type": "display_data"
    }
   ],
   "source": [
    "prop_data = np.arange(0.1, 0.9, 0.1)\n",
    "plt.plot(alfa_lvq, performance)\n",
    "\n",
    "plt.title(\"Optimización de número de iteraciones de corte\")\n",
    "plt.xlabel(\"Proporción de la cantidad de entradas\")\n",
    "plt.ylabel(\"Validation\")"
   ]
  },
  {
   "cell_type": "markdown",
   "metadata": {
    "colab_type": "text",
    "id": "TkcQYWWg69Up"
   },
   "source": [
    "## Validación"
   ]
  },
  {
   "cell_type": "code",
   "execution_count": 0,
   "metadata": {
    "colab": {},
    "colab_type": "code",
    "id": "IC8b3iHm7ABP"
   },
   "outputs": [],
   "source": [
    "def validate_map(train, validation):\n",
    "    # INICIALIZACIÓN DE LA RED NEURONAL\n",
    "    map_kohonen = np.zeros((15, 15)) # Mapa de neuronas\n",
    "    for i in range(map_kohonen.shape[0]):\n",
    "        for j in range(map_kohonen.shape[1]):\n",
    "            map_kohonen[i, j] = -1\n",
    "\n",
    "\n",
    "    W = np.zeros((map_kohonen.shape[0], map_kohonen.shape[1], dataset[0][1].shape[0]))\n",
    "\n",
    "    mu = 0\n",
    "    sigma = 0.2\n",
    "\n",
    "    for i in range(W.shape[0]):\n",
    "        for j in range(W.shape[1]):\n",
    "            W[i, j, :] = np.random.normal(mu, sigma, W.shape[2])\n",
    "            # W[i, j, :] = np.random.uniform(low=-1.0, high=1.0, size=W.shape[2])\n",
    "\n",
    "    # ENTRENAMIENTO\n",
    "    t = 0\n",
    "    printProgressBar(t, len(train))\n",
    "    for [_, x] in train:\n",
    "\n",
    "        g = winner(W, x)\n",
    "\n",
    "        for i in range(W.shape[0]):\n",
    "            for j in range(W.shape[1]):\n",
    "                W[i, j, :] = update_w(W[i, j, :], x, [i, j], g, t, lvq=1)\n",
    "\n",
    "        t += 1\n",
    "        printProgressBar(t, len(train))\n",
    "\n",
    "    # LVQ\n",
    "    # Extracción de muestras\n",
    "    sample = []\n",
    "    ctrl = list(range(0, 10))\n",
    "    for [label, x] in train:\n",
    "        label = int(label)\n",
    "        if (label in ctrl):\n",
    "            ctrl.remove(label)\n",
    "            sample.append([label, x])\n",
    "        if not ctrl:\n",
    "            break\n",
    "    \n",
    "    # vecindad(i, g, t, R=radio_vecindad, r=3)\n",
    "    for [label, x] in sample:\n",
    "        g = winner(W, x)\n",
    "        for i in range(W.shape[0]):\n",
    "            for j in range(W.shape[1]):\n",
    "                if (vecindad([i, j], g, 0, R=r_aux)):\n",
    "                    map_kohonen[i, j] = int(label)\n",
    "\n",
    "    # Ajuste fino\n",
    "    t = 0\n",
    "    printProgressBar(t, len(train))\n",
    "\n",
    "    for [label, x] in train:\n",
    "\n",
    "        label = int(label)\n",
    "        [i, j] = winner(W, x)\n",
    "\n",
    "        if (map_kohonen[i, j] == label):\n",
    "            lvq_c = 1\n",
    "        else:\n",
    "            lvq_c = -1\n",
    "\n",
    "        W[i, j, :] += lvq_c * ritmo_aprendizaje(t, alfa_0=0.4) * (x - W[i, j, :])\n",
    "\n",
    "        t += 1\n",
    "        printProgressBar(t, len(train))\n",
    "\n",
    "    # printMap(map_kohonen)\n",
    "\n",
    "    # VALIDATION\n",
    "    t = 0\n",
    "    printProgressBar(t, len(validation))\n",
    "\n",
    "    ans = []\n",
    "\n",
    "    for [label, x] in validation:\n",
    "\n",
    "        label = int(label)\n",
    "        [i, j] = winner(W, x, map_k=map_kohonen)\n",
    "        ans.append([i, j])\n",
    "\n",
    "        if (map_kohonen[i, j] == label):\n",
    "            t +=1\n",
    "            printProgressBar(t, len(validation))\n",
    "\n",
    "    return t*100/len(validation)"
   ]
  },
  {
   "cell_type": "code",
   "execution_count": 0,
   "metadata": {
    "colab": {
     "base_uri": "https://localhost:8080/",
     "height": 228
    },
    "colab_type": "code",
    "executionInfo": {
     "elapsed": 609465,
     "status": "ok",
     "timestamp": 1560801823495,
     "user": {
      "displayName": "",
      "photoUrl": "",
      "userId": ""
     },
     "user_tz": 180
    },
    "id": "OltFgDNOaqUG",
    "outputId": "04eed5d1-6a5a-4fa2-822c-bf8eab9f0494"
   },
   "outputs": [
    {
     "name": "stdout",
     "output_type": "stream",
     "text": [
      "(60000, 784)\n",
      "60000 39600 20400\n",
      "39600 26136 13464\n",
      " |████████████████████████████████████████████████████████████████████████████████████████████████████| 100.0% \n",
      " |████████████████████████████████████████████████████████████████████████████████████████████████████| 100.0% \n",
      "39600 26532 13068\n",
      " |████████████████████████████████████████████████████████████████████████████████████████████████████| 100.0% \n",
      " |████████████████████████████████████████████████████████████████████████████████████████████████████| 100.0% \n",
      "39600 26532 13068\n",
      " |████████████████████████████████████████████████████████████████████████████████████████████████████| 100.0% \n",
      " |████████████████████████████████████████████████████████████████████████████████████████████████████| 100.0% \n"
     ]
    }
   ],
   "source": [
    "# ANALISIS DEL DATASET\n",
    "\n",
    "from keras.datasets import mnist\n",
    "\n",
    "(train_images, train_labels), (test_images, test_labels) = mnist.load_data()\n",
    "\n",
    "train_images = train_images.reshape(train_images.shape[0], train_images.shape[1]*train_images.shape[2])\n",
    "train_images = train_images.astype('float32')\n",
    "print(train_images.shape)\n",
    "\n",
    "# Normalización\n",
    "# for [label, img] in dataset:\n",
    "#     img /= 255\n",
    "\n",
    "train_images /= 255\n",
    "\n",
    "# Centrado en la media\n",
    "for i in range(train_images[0].shape[0]):\n",
    "    train_images -= np.mean(train_images[:, i])\n",
    "    \n",
    "\n",
    "dataset = []\n",
    "\n",
    "for i in range(train_images.shape[0]):\n",
    "    dataset.append([train_labels[i], train_images[i]])\n",
    "\n",
    "# DIVISIÓN DE TRAIN Y VALIDATION\n",
    "        \n",
    "MAX = int(0.66 * len(dataset))\n",
    "\n",
    "data_train = dataset[:MAX]\n",
    "test = dataset[MAX:]\n",
    "\n",
    "print(len(dataset), len(data_train), len(test))\n",
    "\n",
    "\n",
    "# K-FOLD VALIDATION\n",
    "PIVOT_K = int(0.33 * len(data_train))\n",
    "\n",
    "train = data_train[:2*PIVOT_K]\n",
    "validation = data_train[2*PIVOT_K:]\n",
    "\n",
    "print(len(data_train), len(train), len(validation))\n",
    "\n",
    "k1 = validate_map(train, validation)\n",
    "\n",
    "train = data_train[PIVOT_K:]\n",
    "validation = data_train[:PIVOT_K]\n",
    "\n",
    "print(len(data_train), len(train), len(validation))\n",
    "\n",
    "k2 = validate_map(train, validation)\n",
    "\n",
    "train = data_train[:PIVOT_K] + data_train[2*PIVOT_K:]\n",
    "validation = data_train[PIVOT_K:2*PIVOT_K:]\n",
    "\n",
    "print(len(data_train), len(train), len(validation))\n",
    "\n",
    "k3 = validate_map(train, validation)"
   ]
  },
  {
   "cell_type": "code",
   "execution_count": 0,
   "metadata": {
    "colab": {
     "base_uri": "https://localhost:8080/",
     "height": 36
    },
    "colab_type": "code",
    "executionInfo": {
     "elapsed": 608365,
     "status": "ok",
     "timestamp": 1560801823506,
     "user": {
      "displayName": "",
      "photoUrl": "",
      "userId": ""
     },
     "user_tz": 180
    },
    "id": "pEUoK5M2807h",
    "outputId": "807afdf1-4c43-4c27-a946-f0598711f98a"
   },
   "outputs": [
    {
     "name": "stdout",
     "output_type": "stream",
     "text": [
      "87.47771836007131 84.97857361493725 89.13376186103459\n"
     ]
    }
   ],
   "source": [
    "print(k1, k2, k3)"
   ]
  },
  {
   "cell_type": "markdown",
   "metadata": {
    "colab_type": "text",
    "id": "k64utg5TCx-z"
   },
   "source": [
    "## Resultados finales en test"
   ]
  },
  {
   "cell_type": "code",
   "execution_count": 0,
   "metadata": {
    "colab": {
     "base_uri": "https://localhost:8080/",
     "height": 75
    },
    "colab_type": "code",
    "executionInfo": {
     "elapsed": 320686,
     "status": "ok",
     "timestamp": 1560802319067,
     "user": {
      "displayName": "",
      "photoUrl": "",
      "userId": ""
     },
     "user_tz": 180
    },
    "id": "5LGCxkOt9SMh",
    "outputId": "03474ae4-3284-4f3a-c4b0-1189f768a64a"
   },
   "outputs": [
    {
     "name": "stdout",
     "output_type": "stream",
     "text": [
      "(60000, 784)\n",
      " |████████████████████████████████████████████████████████████████████████████████████████████████████| 100.0% \n",
      " |████████████████████████████████████████████████████████████████████████████████████████████████████| 100.0% \n"
     ]
    }
   ],
   "source": [
    "\n",
    "from keras.datasets import mnist\n",
    "\n",
    "(train_images, train_labels), (test_images, test_labels) = mnist.load_data()\n",
    "\n",
    "train_images = train_images.reshape(train_images.shape[0], train_images.shape[1]*train_images.shape[2])\n",
    "train_images = train_images.astype('float32')\n",
    "print(train_images.shape)\n",
    "\n",
    "# Normalización\n",
    "# for [label, img] in dataset:\n",
    "#     img /= 255\n",
    "\n",
    "train_images /= 255\n",
    "\n",
    "# Centrado en la media\n",
    "for i in range(train_images[0].shape[0]):\n",
    "    train_images -= np.mean(train_images[:, i])\n",
    "    \n",
    "\n",
    "dataset = []\n",
    "\n",
    "for i in range(train_images.shape[0]):\n",
    "    dataset.append([train_labels[i], train_images[i]])\n",
    "\n",
    "# DIVISIÓN DE TRAIN Y VALIDATION\n",
    "        \n",
    "MAX = int(0.66 * len(dataset))\n",
    "\n",
    "data_train = dataset[:MAX]\n",
    "test = dataset[MAX:]\n",
    "\n",
    "final = validate_map(data_train, test)"
   ]
  },
  {
   "cell_type": "code",
   "execution_count": 0,
   "metadata": {
    "colab": {
     "base_uri": "https://localhost:8080/",
     "height": 36
    },
    "colab_type": "code",
    "executionInfo": {
     "elapsed": 314826,
     "status": "ok",
     "timestamp": 1560802319073,
     "user": {
      "displayName": "",
      "photoUrl": "",
      "userId": ""
     },
     "user_tz": 180
    },
    "id": "SrUxOglVC8DD",
    "outputId": "ade7f755-ed59-4005-d434-38b292d634c9"
   },
   "outputs": [
    {
     "name": "stdout",
     "output_type": "stream",
     "text": [
      "91.07352941176471\n"
     ]
    }
   ],
   "source": [
    "print(final)"
   ]
  }
 ],
 "metadata": {
  "accelerator": "GPU",
  "colab": {
   "collapsed_sections": [],
   "name": "SOFMkohonen.ipynb",
   "provenance": [
    {
     "file_id": "https://github.com/GinoAvanzini/IA2_2019/blob/master/TP_3/kohonen.ipynb",
     "timestamp": 1560802706607
    }
   ],
   "toc_visible": true,
   "version": "0.3.2"
  },
  "kernelspec": {
   "display_name": "Python 3",
   "language": "python",
   "name": "python3"
  },
  "language_info": {
   "codemirror_mode": {
    "name": "ipython",
    "version": 3
   },
   "file_extension": ".py",
   "mimetype": "text/x-python",
   "name": "python",
   "nbconvert_exporter": "python",
   "pygments_lexer": "ipython3",
   "version": "3.7.3"
  }
 },
 "nbformat": 4,
 "nbformat_minor": 1
}
