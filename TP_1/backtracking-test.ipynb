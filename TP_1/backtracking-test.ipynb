{
 "cells": [
  {
   "cell_type": "markdown",
   "metadata": {},
   "source": [
    "# Implementación de algoritmo de satisfacción de restricciones\n",
    "---"
   ]
  },
  {
   "cell_type": "markdown",
   "metadata": {},
   "source": [
    "Se implementó un algoritmo de *backtracking* para resolver el problema de satisfacción de restricciones, más especificamente, de *scheduling*."
   ]
  },
  {
   "cell_type": "markdown",
   "metadata": {},
   "source": [
    "## Modelado del problema"
   ]
  },
  {
   "cell_type": "markdown",
   "metadata": {},
   "source": [
    "El problema consiste en una determinada cantidad de tareas que deben realizarse, donde cada una demanda un determinado tiempo:"
   ]
  },
  {
   "cell_type": "code",
   "execution_count": 1,
   "metadata": {},
   "outputs": [],
   "source": [
    "T = {\"d0\": 40, \"d1\":20, \"d2\":25, \"d3\":10, \"d4\":30}"
   ]
  },
  {
   "cell_type": "markdown",
   "metadata": {},
   "source": [
    "Como restricción global a la hora de asignar valores, se considera desde un principio (acotando el dominio de las variables) que el proceso total debe finalizarse en un tiempo menor a *DLINE*. Además, el tiempo se discretizó en intervalos con valor *STEP*."
   ]
  },
  {
   "cell_type": "code",
   "execution_count": 2,
   "metadata": {},
   "outputs": [],
   "source": [
    "DLINE = 150\n",
    "STEP = 5"
   ]
  },
  {
   "cell_type": "markdown",
   "metadata": {},
   "source": [
    "Por lo tando, la asignación de los valores en el dominio de cada variable es de la forma:"
   ]
  },
  {
   "cell_type": "code",
   "execution_count": 3,
   "metadata": {},
   "outputs": [],
   "source": [
    "D = {}\n",
    "for i in T.keys():\n",
    "    D[i] = list(range(0, DLINE-T[i], STEP))"
   ]
  },
  {
   "cell_type": "markdown",
   "metadata": {},
   "source": [
    "Luego se crea un diccionario vacío que contendra las futuras asignaciones del algoritmo, y se elige una variable aleatoria no asignada (por ser la inicial se elige aleatoriamente de entre todo el conjunto de variables)."
   ]
  },
  {
   "cell_type": "code",
   "execution_count": 4,
   "metadata": {},
   "outputs": [
    {
     "name": "stdout",
     "output_type": "stream",
     "text": [
      "d0\n"
     ]
    }
   ],
   "source": [
    "from backtracking import selection\n",
    "\n",
    "assign = {}\n",
    "print(selection(D, assign))"
   ]
  },
  {
   "cell_type": "markdown",
   "metadata": {},
   "source": [
    "Es importante tener en cuenta que a la hora de elegir una variable no asignada se puede implementar alguna heurística como *mínimos valores restantes*. En la práctica esto no se realizó."
   ]
  },
  {
   "cell_type": "markdown",
   "metadata": {},
   "source": [
    "### Restricciones binarias de precedencia\n",
    "Las restricciones binarias se describen *harcodeando* la relación de precedencia entre las distintas variables, teniendo en cuenta el orden. \n",
    "\n",
    "A continuación se plantea un grafo de restricciones sencillos para que puede verificarse visualmente la solución."
   ]
  },
  {
   "cell_type": "code",
   "execution_count": 5,
   "metadata": {},
   "outputs": [],
   "source": [
    "R2 = {\n",
    "    \"d0\":[(\"d0\", \"d1\"), (\"d0\", \"d2\")],\n",
    "    \"d1\":[(\"d0\", \"d1\"), (\"d1\", \"d3\")],\n",
    "    \"d2\":[(\"d0\", \"d2\"), (\"d2\", \"d4\")],\n",
    "    \"d3\":[(\"d1\", \"d3\"), (\"d3\", \"d4\")],\n",
    "    \"d4\":[(\"d3\", \"d4\"), (\"d2\", \"d4\")]\n",
    "}"
   ]
  },
  {
   "cell_type": "markdown",
   "metadata": {},
   "source": [
    "### Restricciones binarias de recursos\n",
    "Cada tarea ocupa máquinas que están disponibles en cantidad limitada, por lo tanto no pueden ejecutarse tareas que requieren de la misma máquina en paralelo. \n",
    "\n",
    "Este tipo de restricciones se describen asignando una lista de máquinas requeridas a cada tarea."
   ]
  },
  {
   "cell_type": "code",
   "execution_count": 6,
   "metadata": {},
   "outputs": [],
   "source": [
    "M = {\n",
    "    \"d0\":[\"m1\", \"m3\"],\n",
    "    \"d1\":[\"m2\", \"m4\"],\n",
    "    \"d2\":[\"m0\"],\n",
    "    \"d3\":[\"m0\", \"m2\", \"m3\"],\n",
    "    \"d4\":[\"m0\", \"m4\"]\n",
    "}"
   ]
  },
  {
   "cell_type": "markdown",
   "metadata": {},
   "source": [
    "### Solución\n",
    "La solución será el diccionario de tareas, con el valor de tiempo inicial en el que se ejecutará cada una."
   ]
  },
  {
   "cell_type": "code",
   "execution_count": 7,
   "metadata": {},
   "outputs": [
    {
     "name": "stdout",
     "output_type": "stream",
     "text": [
      "{'d4': 75, 'd3': 60, 'd2': 40, 'd0': 0, 'd1': 40}\n"
     ]
    }
   ],
   "source": [
    "from backtracking import backtrack\n",
    "\n",
    "print(backtrack(T, assign, D, R2, M))"
   ]
  },
  {
   "cell_type": "markdown",
   "metadata": {},
   "source": [
    "### Conclusión"
   ]
  },
  {
   "cell_type": "markdown",
   "metadata": {},
   "source": [
    "El algoritmo por ser *backtracking* básico, sin la implementación de algún otro algoritmo para analizar arco consistencia como *AC-3*, es muy ineficiente pero da soluciones correctas."
   ]
  }
 ],
 "metadata": {
  "kernelspec": {
   "display_name": "Python 3",
   "language": "python",
   "name": "python3"
  },
  "language_info": {
   "codemirror_mode": {
    "name": "ipython",
    "version": 3
   },
   "file_extension": ".py",
   "mimetype": "text/x-python",
   "name": "python",
   "nbconvert_exporter": "python",
   "pygments_lexer": "ipython3",
   "version": "3.7.3"
  }
 },
 "nbformat": 4,
 "nbformat_minor": 2
}
