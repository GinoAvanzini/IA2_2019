{
 "cells": [
  {
   "cell_type": "markdown",
   "metadata": {},
   "source": [
    "# Implementación de algoritmo A* para trayectoria de robot de 6 grados de libertad\n",
    "---"
   ]
  },
  {
   "cell_type": "markdown",
   "metadata": {},
   "source": [
    "El problema del robot con 6 grados de libertad fue modelado en el espacio articular, donde cada estado del problema es el valor angular de cada articulación con una discretización de ángulos sexagecimales enteros, es decir, un vector de estado es una lista de 6 componentes enteros.\n",
    "\n",
    "La función heurística adoptada en el modelo es la raíz cuadrada de la suma del cuadrado de cada componente, distancia euclidiana del espacio de estados, desde el estado en cuestión al estado objetivo.\n",
    "\n",
    "El estado inicial es sencillamente la configuración inicial del brazo robótico. La prueba de meta es la comprobación de si el estado actual es igual al estado objetivo, es decir, comprobar si el valor angular de cada articulación es igual el objetivo."
   ]
  },
  {
   "cell_type": "markdown",
   "metadata": {},
   "source": [
    "## Análisis de tiempo de ejecución del algoritmo en función de la cantidad de grados de libertad"
   ]
  },
  {
   "cell_type": "markdown",
   "metadata": {},
   "source": [
    "El tiempo de ejecución del algoritmo se incrementa al aumentar la cantidad de grados de libertad del espacio articular del sistema. A continuación se analiza de 2 a 6 grados de libertad."
   ]
  },
  {
   "cell_type": "code",
   "execution_count": 1,
   "metadata": {},
   "outputs": [],
   "source": [
    "from time import time"
   ]
  },
  {
   "cell_type": "code",
   "execution_count": 2,
   "metadata": {},
   "outputs": [],
   "source": [
    "from a_star2b import Node, a_star\n",
    "from a_star2a import generate_neighbours, obstaculos"
   ]
  },
  {
   "cell_type": "markdown",
   "metadata": {},
   "source": [
    "Los parámetros TOP y STEP están definidos en el archivo [a_star2a.py](./a_star2a.py)."
   ]
  },
  {
   "cell_type": "code",
   "execution_count": 3,
   "metadata": {},
   "outputs": [],
   "source": [
    "TOP = 50\n",
    "STEP = 10"
   ]
  },
  {
   "cell_type": "code",
   "execution_count": 4,
   "metadata": {},
   "outputs": [
    {
     "name": "stdout",
     "output_type": "stream",
     "text": [
      "1555960528.8629613\n",
      "2\n",
      "1555960528.8864892\n",
      "3\n",
      "1555960529.4057345\n",
      "4\n",
      "1555960551.4310658\n",
      "5\n",
      "1555961599.8360023\n",
      "6\n"
     ]
    }
   ],
   "source": [
    "register = []\n",
    "\n",
    "i = 2\n",
    "while (i <= 6):\n",
    "    \n",
    "    GDL = i\n",
    "    \n",
    "    initial_state = GDL * [0]\n",
    "    start = Node(initial_state)\n",
    "\n",
    "    end_state = GDL * [TOP]\n",
    "    goal = Node(end_state)\n",
    "    \n",
    "    # wall = obstaculos(GDL)\n",
    "    # wall = None\n",
    "    \n",
    "    t_start = time()\n",
    "    # ans = a_star(start, goal, generate_neighbours, wall=wall)\n",
    "    ans = a_star(start, goal, generate_neighbours, dim=GDL)\n",
    "\n",
    "    if ans[1]:\n",
    "        t_end = time()\n",
    "        register.append(t_end - t_start)\n",
    "        i += 1"
   ]
  },
  {
   "cell_type": "code",
   "execution_count": 7,
   "metadata": {},
   "outputs": [],
   "source": [
    "from matplotlib import pyplot as plt"
   ]
  },
  {
   "cell_type": "code",
   "execution_count": 8,
   "metadata": {},
   "outputs": [
    {
     "name": "stdout",
     "output_type": "stream",
     "text": [
      "[0.0005648136138916016, 0.02310776710510254, 0.5191671848297119, 22.02523684501648, 1048.4048516750336]\n"
     ]
    }
   ],
   "source": [
    "print(register)"
   ]
  },
  {
   "cell_type": "code",
   "execution_count": 11,
   "metadata": {},
   "outputs": [
    {
     "data": {
      "image/png": "[encoded data removed]",
      "text/plain": [
       "<Figure size 432x288 with 1 Axes>"
      ]
     },
     "metadata": {
      "needs_background": "light"
     },
     "output_type": "display_data"
    }
   ],
   "source": [
    "gdl = [2, 3, 4, 5, 6]\n",
    "plt.plot(gdl, register)\n",
    "plt.grid()"
   ]
  },
  {
   "cell_type": "markdown",
   "metadata": {},
   "source": [
    "Si se analiza el tiempo de ejecución en relación del tiempo de ejecución máximo, es decir para 6 grados de libertad, los resultados son los siguientes:"
   ]
  },
  {
   "cell_type": "code",
   "execution_count": 20,
   "metadata": {},
   "outputs": [
    {
     "name": "stdout",
     "output_type": "stream",
     "text": [
      "5.387361695142868e-07\n",
      "2.2040881505062974e-05\n",
      "0.0004951972360679559\n",
      "0.02100833166674765\n",
      "1.0\n"
     ]
    }
   ],
   "source": [
    "for i in register:\n",
    "    print(i / register[len(register)-1])"
   ]
  },
  {
   "cell_type": "markdown",
   "metadata": {},
   "source": [
    "## Conclusión"
   ]
  },
  {
   "cell_type": "markdown",
   "metadata": {},
   "source": [
    "Para observar el crecimiento exponencial, se muestra cuánto más grande es un tiempo de ejecución con relación al tiempo para un grado de libertad menos:"
   ]
  },
  {
   "cell_type": "code",
   "execution_count": 18,
   "metadata": {},
   "outputs": [
    {
     "name": "stdout",
     "output_type": "stream",
     "text": [
      "40.912199240185736\n",
      "22.467215567317712\n",
      "42.42416987938252\n",
      "47.600162443304214\n"
     ]
    }
   ],
   "source": [
    "for i in range(0, len(register)-1):\n",
    "    print(register[i+1]/register[i])"
   ]
  },
  {
   "cell_type": "markdown",
   "metadata": {},
   "source": [
    "Se puede observar que incrementar en 1 la dimensión del espacio articular del robot implica escalar aproximadamente en 40 el tiempo de ejecución del programa."
   ]
  },
  {
   "cell_type": "markdown",
   "metadata": {},
   "source": [
    "La complejidad del algoritmo A* es O(b^d) siendo b la cantidad de estados vecinos y d el factor de ramificación o profundidad. \n",
    "\n",
    "Por lo tanto, para reducir el tiempo de ejecución debería modificarse la generación de estados vecinos aumentando su cantidad, y así obtener un árbol de estados más ancho pero de menor profundidad."
   ]
  },
  {
   "cell_type": "markdown",
   "metadata": {},
   "source": [
    "# Implementación de algoritmo A* para calcular camino más corto entre dos posiciones de un almacen"
   ]
  },
  {
   "cell_type": "markdown",
   "metadata": {},
   "source": [
    "El problema del camino más corto entre dos posiciones de un almacen con un determinado layout, se modeló de tal forma que cada estado es una posición del almacén en coordenadas rectangulares. Estas coordenadas son tales que el (0, 0) se encuentra en la esquina superior izquierda, y x e y crecen hacia la derecha y abajo respectivamente.\n",
    "\n",
    "La función heurística adoptada en el modelo es la raíz cuadrada de la suma del cuadrado de cada componente, distancia euclidiana del espacio de estados, desde el estado en cuestión al estado objetivo. Esto debido a que ya se encontraba implementado en el ejercicio anteriror.\n",
    "\n",
    "El estado inicial es la posición inicial, por ejemplo (0, 0), y el estado final la posición objetivo. Se consideran posiciones válidas únicamente los pasillos, por lo que la posición de una determinada estantería o producto es ubicado estando en el pasillo frente a éste."
   ]
  },
  {
   "cell_type": "markdown",
   "metadata": {},
   "source": [
    "El algoritmo se implementó separando las funciones independientes del modelado del problema de las dependientes de éste. Por lo tanto aquellas funciones propias del algoritmo A* pudieron reutilizarse sin inconvenientes en ambos ejercicios sin necesidad de una nueva implementación. Para información más específica consultar documentación del código."
   ]
  }
 ],
 "metadata": {
  "kernelspec": {
   "display_name": "Python 3",
   "language": "python",
   "name": "python3"
  },
  "language_info": {
   "codemirror_mode": {
    "name": "ipython",
    "version": 3
   },
   "file_extension": ".py",
   "mimetype": "text/x-python",
   "name": "python",
   "nbconvert_exporter": "python",
   "pygments_lexer": "ipython3",
   "version": "3.7.3"
  }
 },
 "nbformat": 4,
 "nbformat_minor": 2
}
