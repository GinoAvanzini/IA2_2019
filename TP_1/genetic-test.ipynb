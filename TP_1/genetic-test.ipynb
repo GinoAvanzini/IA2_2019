{
 "cells": [
  {
   "cell_type": "markdown",
   "metadata": {},
   "source": [
    "# Implementación de algoritmo genético para optimizar la ubicación de los productos en el almacén\n",
    "---"
   ]
  },
  {
   "cell_type": "markdown",
   "metadata": {},
   "source": [
    "En este problema se implementó un algoritmo genético para resolver el problema de optimización de la ubicación de los productos en un layout definido del almacen, de tal forma de optimizar el picking para un conjunto de ordenes de productos habituales."
   ]
  },
  {
   "cell_type": "markdown",
   "metadata": {},
   "source": [
    "## Análisis del algoritmo"
   ]
  },
  {
   "cell_type": "markdown",
   "metadata": {},
   "source": [
    "El algoritmo es más específicamente un algoritmo genético con permutaciones. Para la implementación fue necesario predifinir diferentes etapas:\n",
    "\n",
    "- **Individuos**:\n",
    "\n",
    "A la hora de definir individuos se decidió hacer una especie de \"mapeo\" sobre el layout original. Es decir, si el layout es para 32 productos, cada individuo será una lista de números de 0 a 31 ordenados de tal manera que el índice dará su posición. Por ejemplo, si un individuo es [5, 2, 4, 0, 1, 3] el producto 5 estará ubicado donde antes estaba el producto 0.\n",
    "\n",
    "- **Función de fitness**:\n",
    "\n",
    "Para calcular el fitness de un determinado individuo, se realiza un **recocido simulado** (ya implementado en el ejercicio anterior) para cada orden en el conjunto de órdenes habituales, para las cuales se desea optimizar la ubicación de los productos. Si recordamos, la función donde se implementó el recocido simulado recibe como parámetros la lista de productos a recolectar, la temperatura inicial, la función de generación de vecinos y la heurística a utilizar. Debido a que el objetivo del algoritmo genético es justamente cambiar la ubicación de los productos en el almacen, y el recocido simulado se ejecuta para el layout original, en lugar de pasar el número de producto en la secuencia, se pasa su índice en la lista (que es en definitiva el lugar donde se encuentra).\n",
    "\n",
    "Entonces, para cada orden del conjunto se ejecuta el recocido simulado, que a su vez ejecuta internamente el algoritmo **A***. Como resultado se obtiene el costo de camino para esa orden, dada el layout que es el individuo, y con el picking optimizado por el recocido simulado. En teoría, es el menor costo posible al buscar todos los productos de la orden en éste layout.\n",
    "\n",
    "El fitness final del individuo será un promedio de los costos para cada orden.\n",
    "\n",
    "- **Selección**:\n",
    "\n",
    "A la hora de elegir un individuo de la población previo al *crossover*, se utilizó **roulette wheel selection**. La idea general es que la selección es aleatoria pero los individuos tienen mayor probabilidad de ser elegidos cuanto menor sea su *fitness* (recuerdese que lo que se desea es minimizar el costo de *picking*).\n",
    "\n",
    "- **Crossover**:\n",
    "\n",
    "Se eligió **cruce de orden** como procedimiento de cruce por ser apto para algoritmos genéticos de permutación. Consiste en seleccionar dos puntos de cruce al azar, se copian los elementos de los padres entre los puntos de cruce, cruzados, y luego se copian los valores restantes a partir del segundo corte, en orden, evitando duplicar valores.\n",
    "\n",
    "- **Mutación**:\n",
    "\n",
    "Se eligió **inserción** también por ser apto para el problema de permutaciones. Consiste en elegir 2 genes al azar de la solución, se mueve el segundo gen elegido a continuación del primero y el resto de los genes se mueven a la derecha.\n",
    "\n",
    "- **Condición de corte**:\n",
    "\n",
    "La condición de corte del algoritmo es por cantidad de iteraciones (generaciones), y no por convergencia.\n"
   ]
  },
  {
   "cell_type": "markdown",
   "metadata": {},
   "source": [
    "## Evaluación de rendimiento del algoritmo"
   ]
  },
  {
   "cell_type": "markdown",
   "metadata": {},
   "source": [
    "## Reducción de *fitness*"
   ]
  },
  {
   "cell_type": "markdown",
   "metadata": {},
   "source": [
    "La primer evaluación que se realizó, y más intuitiva, fue la reducción del fitness del mejor individuo de la población a lo largo de las generaciones (iteraciones) del algoritmo.\n",
    "\n",
    "Se creó un conjunto de ordenes aleaorias (conjunto para el cuál se debe optimizar el almacén), de tal forma que ciertos productos tengan una mayor tendencia a aparecer. Esto es a modo de evaluación visual, intuyendo que los productos que más se repiten tenderían a aparecer ubicados más cercas de donde se comienza el *picking*."
   ]
  },
  {
   "cell_type": "code",
   "execution_count": 1,
   "metadata": {},
   "outputs": [],
   "source": [
    "from genetic import genetic, generate_ind\n",
    "from matplotlib import pyplot as plt\n",
    "from random import randint, choices\n",
    "\n",
    "N_POB = 10 # Cantidad de individuos en la población\n",
    "MAX_LENGHT = 32 # Cantidad de estanterías\n",
    "T_0 = 200 # Temperatura inicial a la que inicia el algoritmo de temple simulado\n",
    "MAX_GEN = 50 # Máxima cantidad de iteraciones a la que corta el algoritmo genético"
   ]
  },
  {
   "cell_type": "code",
   "execution_count": 2,
   "metadata": {},
   "outputs": [
    {
     "name": "stdout",
     "output_type": "stream",
     "text": [
      "[[21, 31, 2, 31, 28, 20, 30], [30, 30, 10, 11, 4], [28, 30, 28, 30, 25], [18, 6, 31], [16, 25, 31], [24, 5, 31, 5, 20, 30], [16, 25, 24, 27, 29, 24], [26, 28, 17]]\n"
     ]
    }
   ],
   "source": [
    "conjunto = []\n",
    "\n",
    "prob = []\n",
    "\n",
    "estant = [i for i in range(0, MAX_LENGHT)]\n",
    "\n",
    "for i in range(0, 25):\n",
    "    prob.append(0.1)\n",
    "\n",
    "for i in range(25, MAX_LENGHT):\n",
    "    prob.append(0.5)\n",
    "\n",
    "for i in range(0, 8):\n",
    "    conjunto.append(choices(population=estant, k=randint(3, 7), weights=prob))\n",
    "\n",
    "print(conjunto)"
   ]
  },
  {
   "cell_type": "code",
   "execution_count": 3,
   "metadata": {},
   "outputs": [
    {
     "name": "stdout",
     "output_type": "stream",
     "text": [
      " |████████████████████████████████████████████████████████████████████████████████████████████████████| 100.0% \n",
      "[[9, 21, 18, 15, 4, 17, 12, 22, 27, 2, 29, 20, 13, 3, 11, 16, 28, 10, 26, 0, 6, 25, 24, 8, 30, 31, 1, 19, 23, 7, 14, 5], 1.5]\n"
     ]
    },
    {
     "data": {
      "image/png": "[encoded data removed]",
      "text/plain": [
       "<Figure size 432x288 with 1 Axes>"
      ]
     },
     "metadata": {
      "needs_background": "light"
     },
     "output_type": "display_data"
    }
   ],
   "source": [
    "start = []\n",
    "for i in range(0, N_POB):\n",
    "    start.append(generate_ind())\n",
    "\n",
    "best, history = genetic(start, conjunto, hist=True)\n",
    "print(best)\n",
    "\n",
    "plt.plot(history)\n",
    "plt.show()"
   ]
  },
  {
   "cell_type": "markdown",
   "metadata": {},
   "source": [
    "## Comparación de costos con layout optimizado y sin optimizar"
   ]
  },
  {
   "cell_type": "code",
   "execution_count": null,
   "metadata": {},
   "outputs": [],
   "source": []
  }
 ],
 "metadata": {
  "kernelspec": {
   "display_name": "Python 3",
   "language": "python",
   "name": "python3"
  },
  "language_info": {
   "codemirror_mode": {
    "name": "ipython",
    "version": 3
   },
   "file_extension": ".py",
   "mimetype": "text/x-python",
   "name": "python",
   "nbconvert_exporter": "python",
   "pygments_lexer": "ipython3",
   "version": "3.7.3"
  }
 },
 "nbformat": 4,
 "nbformat_minor": 2
}
