{
 "cells": [
  {
   "cell_type": "markdown",
   "metadata": {},
   "source": [
    "# Implementación de algoritmo genético para optimizar la ubicación de los productos en el almacén\n",
    "---"
   ]
  },
  {
   "cell_type": "markdown",
   "metadata": {},
   "source": [
    "En este problema se implementó un algoritmo genético para resolver el problema de optimización de la ubicación de los productos en un layout definido del almacen, de tal forma de optimizar el picking para un conjunto de ordenes de productos habituales."
   ]
  },
  {
   "cell_type": "markdown",
   "metadata": {},
   "source": [
    "## Análisis del algoritmo"
   ]
  },
  {
   "cell_type": "markdown",
   "metadata": {},
   "source": [
    "El algoritmo es más específicamente un algoritmo genético con permutaciones. Para la implementación fue necesario predifinir diferentes etapas:\n",
    "\n",
    "- **Individuos**:\n",
    "\n",
    "A la hora de definir individuos se decidió hacer una especie de \"mapeo\" sobre el layout original. Es decir, si el layout es para 32 productos, cada individuo será una lista de números de 0 a 31 ordenados de tal manera que el índice dará su posición. Por ejemplo, si un individuo es [5, 2, 4, 0, 1, 3] el producto 5 estará ubicado donde antes estaba el producto 0.\n",
    "\n",
    "- **Función de fitness**:\n",
    "\n",
    "Para calcular el fitness de un determinado individuo, se realiza un **recocido simulado** (ya implementado en el ejercicio anterior) para cada orden en el conjunto de órdenes habituales, para las cuales se desea optimizar la ubicación de los productos. Si recordamos, la función donde se implementó el recocido simulado recibe como parámetros la lista de productos a recolectar, la temperatura inicial, la función de generación de vecinos y la heurística a utilizar. Debido a que el objetivo del algoritmo genético es justamente cambiar la ubicación de los productos en el almacen, y el recocido simulado se ejecuta para el layout original, en lugar de pasar el número de producto en la secuencia, se pasa su índice en la lista (que es en definitiva el lugar donde se encuentra).\n",
    "\n",
    "Entonces, para cada orden del conjunto se ejecuta el recocido simulado, que a su vez ejecuta internamente el algoritmo **A***. Como resultado se obtiene el costo de camino para esa orden, dada el layout que es el individuo, y con el picking optimizado por el recocido simulado. En teoría, es el menor costo posible al buscar todos los productos de la orden en éste layout.\n",
    "\n",
    "El fitness final del individuo será un promedio de los costos para cada orden.\n",
    "\n",
    "- **Selección**:\n",
    "\n",
    "A la hora de elegir un individuo de la población previo al *crossover*, se utilizó **roulette wheel selection**. La idea general es que la selección es aleatoria pero los individuos tienen mayor probabilidad de ser elegidos cuanto menor sea su *fitness* (recuerdese que lo que se desea es minimizar el costo de *picking*).\n",
    "\n",
    "- **Crossover**:\n",
    "\n",
    "Se eligió **cruce de orden** como procedimiento de cruce por ser apto para algoritmos genéticos de permutación. Consiste en seleccionar dos puntos de cruce al azar, se copian los elementos de los padres entre los puntos de cruce, cruzados, y luego se copian los valores restantes a partir del segundo corte, en orden, evitando duplicar valores.\n",
    "\n",
    "- **Mutación**:\n",
    "\n",
    "Se eligió **inserción** también por ser apto para el problema de permutaciones. Consiste en elegir 2 genes al azar de la solución, se mueve el segundo gen elegido a continuación del primero y el resto de los genes se mueven a la derecha.\n",
    "\n",
    "- **Condición de corte**:\n",
    "\n",
    "La condición de corte del algoritmo es por cantidad de iteraciones (generaciones), y no por convergencia.\n"
   ]
  },
  {
   "cell_type": "markdown",
   "metadata": {},
   "source": [
    "## Evaluación de rendimiento del algoritmo"
   ]
  },
  {
   "cell_type": "markdown",
   "metadata": {},
   "source": [
    "## Reducción de *fitness*"
   ]
  },
  {
   "cell_type": "markdown",
   "metadata": {},
   "source": [
    "La primer evaluación que se realizó, y más intuitiva, fue la reducción del fitness del mejor individuo de la población a lo largo de las generaciones (iteraciones) del algoritmo.\n",
    "\n",
    "Se creó un conjunto de ordenes aleaorias (conjunto para el cuál se debe optimizar el almacén), de tal forma que ciertos productos tengan una mayor tendencia a aparecer. Esto es a modo de evaluación visual, intuyendo que los productos que más se repiten tenderían a aparecer ubicados más cercas de donde se comienza el *picking*."
   ]
  },
  {
   "cell_type": "code",
   "execution_count": 2,
   "metadata": {},
   "outputs": [],
   "source": [
    "from genetic import genetic, generate_ind\n",
    "from matplotlib import pyplot as plt\n",
    "from random import randint, choices\n",
    "\n",
    "N_POB = 10 # Cantidad de individuos en la población\n",
    "MAX_LENGHT = 32 # Cantidad de estanterías\n",
    "T_0 = 200 # Temperatura inicial a la que inicia el algoritmo de temple simulado\n",
    "MAX_GEN = 50 # Máxima cantidad de iteraciones a la que corta el algoritmo genético"
   ]
  },
  {
   "cell_type": "code",
   "execution_count": 3,
   "metadata": {},
   "outputs": [
    {
     "name": "stdout",
     "output_type": "stream",
     "text": [
      "[[30, 29, 31, 14, 29, 27], [29, 28, 2, 2, 25, 19], [23, 30, 25, 5, 29, 13], [25, 12, 31, 19, 7], [11, 26, 0, 18, 26, 18, 27], [7, 27, 31], [30, 20, 26, 25, 23], [27, 27, 31, 0, 30, 24]]\n"
     ]
    }
   ],
   "source": [
    "conjunto = []\n",
    "\n",
    "prob = []\n",
    "\n",
    "estant = [i for i in range(0, MAX_LENGHT)]\n",
    "\n",
    "for i in range(0, 25):\n",
    "    prob.append(0.1)\n",
    "\n",
    "for i in range(25, MAX_LENGHT):\n",
    "    prob.append(0.5)\n",
    "\n",
    "for i in range(0, 8):\n",
    "    conjunto.append(choices(population=estant, k=randint(3, 7), weights=prob))\n",
    "\n",
    "print(conjunto)"
   ]
  },
  {
   "cell_type": "code",
   "execution_count": 3,
   "metadata": {},
   "outputs": [
    {
     "name": "stdout",
     "output_type": "stream",
     "text": [
      " |████████████████████████████████████████████████████████████████████████████████████████████████████| 100.0% \n",
      "[[9, 21, 18, 15, 4, 17, 12, 22, 27, 2, 29, 20, 13, 3, 11, 16, 28, 10, 26, 0, 6, 25, 24, 8, 30, 31, 1, 19, 23, 7, 14, 5], 1.5]\n"
     ]
    },
    {
     "data": {
      "image/png": "[encoded data removed]",
      "text/plain": [
       "<Figure size 432x288 with 1 Axes>"
      ]
     },
     "metadata": {
      "needs_background": "light"
     },
     "output_type": "display_data"
    }
   ],
   "source": [
    "start = []\n",
    "for i in range(0, N_POB):\n",
    "    start.append(generate_ind())\n",
    "\n",
    "best, history = genetic(start, conjunto, hist=True)\n",
    "print(best)\n",
    "\n",
    "plt.plot(history)\n",
    "plt.show()\n",
    "plt.grid()"
   ]
  },
  {
   "cell_type": "markdown",
   "metadata": {},
   "source": [
    "Como se puede observar en el gráfico, esta manera de evaluar no da resultados conclusivos del funcionamiento del algoritmo, esto podría deberse a que la diferencia de *fitness* entre el estado inicial y el óptimo no es la suficiente y al alcanzarse un mínimo este *fitness* comienza a oscilar."
   ]
  },
  {
   "cell_type": "markdown",
   "metadata": {},
   "source": [
    "## Comparación de costos con layout optimizado y sin optimizar"
   ]
  },
  {
   "cell_type": "markdown",
   "metadata": {},
   "source": [
    "Dado que el análisis anterior no brinda resultados determinantes sobre el rendimiento y funcionamiento del algoritmo, se buscó otra forma de verificar que el algoritmo efectivamente funciona.\n",
    "\n",
    "Se plantea ejecutar el recocido simulado para una determinada orden de productos de tal forma de optimizar la secuencia del *picking* esté optimizada para el layout original del almacén. Luego ejecutar el algoritmo genético para obtener el layout óptimo para dicha orden de productos. Y por último, ejecutar el recocido simulado para la misma orden pero esta vez con el layout del almacén optimizado."
   ]
  },
  {
   "cell_type": "code",
   "execution_count": 8,
   "metadata": {},
   "outputs": [
    {
     "name": "stdout",
     "output_type": "stream",
     "text": [
      " |████████████████████████████████████████████████████████████████████████████████████████████████████| 100.0% \n",
      " |████████████████████████████████████████████████████████████████████████████████████████████████████| 100.0% \n",
      " |████████████████████████████████████████████████████████████████████████████████████████████████████| 100.0% \n",
      " |████████████████████████████████████████████████████████████████████████████████████████████████████| 100.0% \n",
      " |████████████████████████████████████████████████████████████████████████████████████████████████████| 100.0% \n",
      " |████████████████████████████████████████████████████████████████████████████████████████████████████| 100.0% \n",
      " |████████████████████████████████████████████████████████████████████████████████████████████████████| 100.0% \n",
      " |████████████████████████████████████████████████████████████████████████████████████████████████████| 100.0% \n"
     ]
    }
   ],
   "source": [
    "from simulated_annealing import map_to_coord, temple_simulado, neighbours_annealing, distance\n",
    "\n",
    "cost0 = []\n",
    "cost1 = []\n",
    "\n",
    "for orden in conjunto:\n",
    "    coordenadas = map_to_coord(orden)\n",
    "    _, costo = temple_simulado(coordenadas, 200, neighbours_annealing, distance)\n",
    "    cost0.append(costo)\n",
    "    \n",
    "    # Generación de población inicial\n",
    "    start = []\n",
    "    for i in range(0, N_POB):\n",
    "        start.append(generate_ind())\n",
    "    \n",
    "    new_layout, _ = genetic(start, [orden])\n",
    "    \n",
    "    orden_estant = []\n",
    "    for prod in orden:\n",
    "        orden_estant.append(new_layout.index(prod))\n",
    "    \n",
    "    coordenadas = map_to_coord(orden_estant)\n",
    "    _, costo = temple_simulado(coordenadas, 200, neighbours_annealing, distance)\n",
    "    cost1.append(costo)\n",
    "    "
   ]
  },
  {
   "cell_type": "code",
   "execution_count": 11,
   "metadata": {},
   "outputs": [
    {
     "data": {
      "image/png": "[encoded data removed]",
      "text/plain": [
       "<Figure size 432x288 with 1 Axes>"
      ]
     },
     "metadata": {
      "needs_background": "light"
     },
     "output_type": "display_data"
    }
   ],
   "source": [
    "plt.plot(cost0, label=\"costo con layout sin optimizar\")\n",
    "plt.plot(cost1, label=\"costo con layout optimizado\")\n",
    "plt.grid()"
   ]
  },
  {
   "cell_type": "code",
   "execution_count": 18,
   "metadata": {},
   "outputs": [
    {
     "name": "stdout",
     "output_type": "stream",
     "text": [
      "56.275638544891635\n"
     ]
    }
   ],
   "source": [
    "avg = 0\n",
    "for i, j in zip(cost0, cost1):\n",
    "    avg += (i - j) / i\n",
    "avg = avg * 100 / len(cost0)\n",
    "\n",
    "print(avg)"
   ]
  },
  {
   "cell_type": "markdown",
   "metadata": {},
   "source": [
    "En el gráfico anterior pueden observarse diferencias claras al optimizar la ubicación de los productos en el almacen para un conjunto de ordenes, por lo que puede concluirse que el algoritmo está funcionando correctamente, reduciendo costos en aproximadamente 56,27%"
   ]
  }
 ],
 "metadata": {
  "kernelspec": {
   "display_name": "Python 3",
   "language": "python",
   "name": "python3"
  },
  "language_info": {
   "codemirror_mode": {
    "name": "ipython",
    "version": 3
   },
   "file_extension": ".py",
   "mimetype": "text/x-python",
   "name": "python",
   "nbconvert_exporter": "python",
   "pygments_lexer": "ipython3",
   "version": "3.7.3"
  }
 },
 "nbformat": 4,
 "nbformat_minor": 2
}
