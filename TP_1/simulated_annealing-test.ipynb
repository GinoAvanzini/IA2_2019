{
 "cells": [
  {
   "cell_type": "markdown",
   "metadata": {},
   "source": [
    "# Implementación de recocido simulado para optimización de orden de picking en almacen\n",
    "---"
   ]
  },
  {
   "cell_type": "markdown",
   "metadata": {},
   "source": [
    "En este problema el objetivo es determinar el orden óptimo de picking para una serie de productos en el almacén. Esto se determina mediante un algoritmo de recocido simulado cuyos parámetros e implementación se explicarán a continuación."
   ]
  },
  {
   "cell_type": "markdown",
   "metadata": {},
   "source": [
    "## Análisis del algoritmo"
   ]
  },
  {
   "cell_type": "markdown",
   "metadata": {},
   "source": [
    "El algoritmo de recocido simulado tiene varios parámetros que afectan los resultados. A continuación hablaremos brevemente de los mismos.\n",
    "\n",
    "- Perfil de decrecimiento de temperatura\n",
    "\n",
    "Como perfil de decrecimiento se eligió, por simplicidad y para evitar el tuning de otro hiperparámetro, una función lineal en la que la temperatura disminuye un grado por cada iteración.\n",
    "\n",
    "- Temperatura inicial\n",
    "\n",
    "Se evaluaron distintas temperaturas iniciales y se hizo un análisis en el que se evalúa cuán mejor es la solución final que otorga el algoritmo en comparación a la solución inicial. Dicho análisis se explica más adelante pero la conclusión es que no existe una gran mejora en la calidad de la solución con temperaturas iniciales mayores a 200.\n",
    "\n",
    "- Energía\n",
    "\n",
    "Como función de energía para obtener la calidad de la solución para cada estado se utiliza el algoritmo A* ya implementado en el problema anterior. Para cada secuencia de coordenadas que visitar, se calcula la longitud del camino óptimo para ir de una coordenada a la siguiente dentro de la secuencia. El valor de la energía del estado será la suma de las distancias recorridas para ir de una coordenada a la otra, comenzando y finalizando en [0, 0].\n",
    "\n",
    "- Generación de vecinos\n",
    "\n",
    "Un estado en el algoritmo es una lista con una secuencia de coordenadas que visitar. Para generar vecinos se seleccionan las posiciones de dos elementos aleatorios dentro de la lista de coordenadas y se intercambian. Luego se calcula la energía del estado vecino y este se acepta siempre que tenga menor costo y cuando tenga mayor costo se acepta con probabilidad exp(-delta/T)."
   ]
  },
  {
   "cell_type": "markdown",
   "metadata": {},
   "source": [
    "## Modelado del problema"
   ]
  },
  {
   "cell_type": "markdown",
   "metadata": {},
   "source": [
    "El input del programa es una lista de productos que hay que ir a buscar y como salida se obtiene el orden óptimo del picking para minimizar la distancia recorrida. Antes de la ejecución en sí del temple, se realiza una abstracción en la que se convierte de número de producto (o posición en el almacén) a la coordenada cartesiana a la que hay que ir. Esto se hace para poder reutilizar el algoritmo ya usado del A* y para, además, poder usar a futuro este mismo código para el algoritmo genético.\n",
    "\n",
    "Luego, a cada orden se le agregan dos coordenadas indicando que debe partir y volver a un punto determinado del almacén el cual es, en nuestro caso, [0, 0]. Así, por ejemplo, para ir a buscar los productos 8, 6, 2, 14, 30 y 17 obtendremos algo así:"
   ]
  },
  {
   "cell_type": "code",
   "execution_count": 10,
   "metadata": {},
   "outputs": [],
   "source": [
    "from simulated_annealing import map_to_coord, distance, temple_simulado, neighbours_annealing"
   ]
  },
  {
   "cell_type": "markdown",
   "metadata": {},
   "source": [
    "La secuencia de coordenadas, con su respectiva energía, antes de la ejecución del algoritmo es: "
   ]
  },
  {
   "cell_type": "code",
   "execution_count": 11,
   "metadata": {},
   "outputs": [
    {
     "name": "stdout",
     "output_type": "stream",
     "text": [
      "Estado inicial:  [[0, 0], [6, 0], [4, 0], [2, 0], [9, 0], [9, 3], [1, 6], [0, 0]]\n",
      "Energía:  40\n"
     ]
    }
   ],
   "source": [
    "pos_pick = [8, 6, 2, 14, 30, 17]\n",
    "coordenadas = map_to_coord(pos_pick)\n",
    "print(\"Estado inicial: \", coordenadas)\n",
    "print(\"Energía: \", distance(coordenadas)) # Energía del estado inicial"
   ]
  },
  {
   "cell_type": "markdown",
   "metadata": {},
   "source": [
    "Y luego de la ejecución, la secuencia de coordenas con su respectiva energía es:"
   ]
  },
  {
   "cell_type": "code",
   "execution_count": 12,
   "metadata": {},
   "outputs": [
    {
     "name": "stdout",
     "output_type": "stream",
     "text": [
      "Estado final:  [[0, 0], [2, 0], [4, 0], [6, 0], [9, 0], [9, 3], [1, 6], [0, 0]]\n",
      "Energía:  32\n"
     ]
    }
   ],
   "source": [
    "T0 = 200\n",
    "best_path = temple_simulado(coordenadas, T0, neighbours_annealing, distance)\n",
    "\n",
    "print(\"Estado final: \", best_path[0])\n",
    "print(\"Energía: \", best_path[1]) # Energía del estado inicial"
   ]
  },
  {
   "cell_type": "markdown",
   "metadata": {},
   "source": [
    "Primero se genera la secuencia de coordenadas a las que hay que ir para buscar los productos tal como se dieron en la orden y el costo (en pasos) de busar los productos en dicha secuencia. Al finalizar la ejecución del algoritmo se devuelve la secuencia de coordenadas \"óptimas\" a las que hay que ir junto con el costo del nuevo camino. \n",
    "\n",
    "La solución obtenida en el algoritmo no es la final que se obtendría con el algoritmo vanilla sino la solución con mejor costo de todos los estados generados. Como nuestro objetivo es optimizar el picking, lo único que nos interesa es obtener el mejor resultado y no el último obtenido. \n",
    "\n",
    "Para calcular el costo de la secuencia se utiliza el algoritmo A* para obtener el camino óptimo al pasar de la primera coordenada de la secuencia a la segunda, de la segunda a la tercera y así sucesivamente. En cada ejecución del A* se suma la distancia recorrida al ir de una coordenada a la otra y la suma total será el costo de la secuencia dada. Como vemos en el ejemplo dado, el costo del camino disminuyó de 40 a 32 pasos. "
   ]
  },
  {
   "cell_type": "markdown",
   "metadata": {},
   "source": [
    "## Análisis de duración de la ejecución vs cantidad de productos en una orden para temperatura inicial constante"
   ]
  },
  {
   "cell_type": "markdown",
   "metadata": {},
   "source": [
    "En este análisis se ve la complejidad temporal del algoritmo en función de la cantidad de productos que tenga una orden para temperatura inicial constante. Así es que se calcula el tiempo de ejecución del algoritmo para órdenes con 3, 5, 7, 10, 13, 15, 20, 25 y 30 productos. Para eliminar las variaciones debido a la aleatoriedad en la generación de las órdenes, se toma, para cada tamaño de orden (3, 5, 7, etc.) el tiempo promedio de ejecución luego de 50 iteraciones. Esto es, se hace un promedio de tiempo con 50 ejecuciones para cada tamaño de orden. "
   ]
  },
  {
   "cell_type": "code",
   "execution_count": 13,
   "metadata": {},
   "outputs": [],
   "source": [
    "from time import time\n",
    "from random import randint"
   ]
  },
  {
   "cell_type": "code",
   "execution_count": 16,
   "metadata": {},
   "outputs": [],
   "source": [
    "ITER = 50\n",
    "T0 = 200\n",
    "\n",
    "# Cantidad de productos en una orden\n",
    "inputs = [3, 5, 10, 15, 20, 25, 30]\n",
    "\n",
    "time_exec = []\n",
    "\n",
    "for i in inputs:\n",
    "    time_avg = 0\n",
    "    pos_pick = []\n",
    "\n",
    "    for j in range(0, ITER):\n",
    "        pos_pick = [randint(0, 31) for i in range(0, i)]\n",
    "\n",
    "        coordenadas = map_to_coord(pos_pick)\n",
    "\n",
    "        start = time()\n",
    "        _ = temple_simulado(coordenadas, T0, neighbours_annealing, distance)\n",
    "        end = time()\n",
    "\n",
    "        time_avg += end - start\n",
    "\n",
    "    time_avg = time_avg/ITER\n",
    "    time_exec.append(time_avg)"
   ]
  },
  {
   "cell_type": "markdown",
   "metadata": {},
   "source": [
    "Se obtiene, como es de esperarse, un perfil lineal. Duplicar la cantidad de productos en la orden implica duplicar el tiempo de ejecución."
   ]
  },
  {
   "cell_type": "code",
   "execution_count": 17,
   "metadata": {},
   "outputs": [],
   "source": [
    "from matplotlib import pyplot as plt"
   ]
  },
  {
   "cell_type": "code",
   "execution_count": 23,
   "metadata": {},
   "outputs": [
    {
     "data": {
      "image/png": "[encoded data removed]",
      "text/plain": [
       "<Figure size 432x288 with 1 Axes>"
      ]
     },
     "metadata": {
      "needs_background": "light"
     },
     "output_type": "display_data"
    }
   ],
   "source": [
    "plt.plot(time_exec)\n",
    "plt.grid()"
   ]
  },
  {
   "cell_type": "markdown",
   "metadata": {},
   "source": [
    "## Análisis de temperatura inicial (cantidad de iteraciones) vs mejora en la solución"
   ]
  },
  {
   "cell_type": "markdown",
   "metadata": {},
   "source": [
    "Luego, se hizo el análisis de mejora en la solución en función de la temperatura inicial. En este análisis se quiere ver qué tanto mejora porcentualmente la solución final del algoritmo respecto a la secuencia de productos inicial (generada aleatoriamente). Se calculó la mejora para temperaturas iniciales de [10, 25, 50, 100, 150, 200, 250, 300, 400, 500] para un tamaño de orden constante de 15 productos. Para eliminar las variaciones debido a la generación aleatoria de las órdenes se ejecuta 50 veces el temple simulado con cada temperatura inicial. Luego se saca el promedio de las mejoras para cada set de 50 ejecuciones de cada temperatura inicial. "
   ]
  },
  {
   "cell_type": "code",
   "execution_count": 25,
   "metadata": {},
   "outputs": [],
   "source": [
    "ITER = 50\n",
    "N = 15\n",
    "\n",
    "t0 = [10, 25, 50, 100, 150, 200, 250, 300, 400, 500]\n",
    "\n",
    "improvement = []\n",
    "time_exec = []\n",
    "\n",
    "for temp in t0:\n",
    "    \n",
    "    improvement_avg = 0\n",
    "    time_avg = 0\n",
    "\n",
    "    for i in range(0, ITER):\n",
    "        \n",
    "        pos_pick = [randint(0, 31) for i in range(0, N)]\n",
    "\n",
    "        coordenadas = map_to_coord(pos_pick)\n",
    "\n",
    "        energy_start = distance(coordenadas)\n",
    "\n",
    "        start = time()\n",
    "        _, energy_end = temple_simulado(coordenadas, temp, neighbours_annealing, distance)\n",
    "        end = time()\n",
    "\n",
    "        time_avg += end - start\n",
    "        improvement_avg += (energy_start - energy_end)/energy_start\n",
    "\n",
    "    improvement_avg = improvement_avg/ITER\n",
    "    improvement.append(improvement_avg)\n",
    "\n",
    "    time_avg = time_avg/ITER\n",
    "    time_exec.append(time_avg)"
   ]
  },
  {
   "cell_type": "markdown",
   "metadata": {},
   "source": [
    "En el gráfico se observa, en abscisas, las temperaturas iniciales, las cuales son equivalentes a las iteraciones del algoritmo debido al perfil lineal del decrecimiento de la temperatura. En ordenadas se obtiene la mejora porcentual **promedio** del costo final de la solución respecto al costo de la orden generada aleatoriamente."
   ]
  },
  {
   "cell_type": "code",
   "execution_count": 28,
   "metadata": {},
   "outputs": [
    {
     "data": {
      "image/png": "[encoded data removed]",
      "text/plain": [
       "<Figure size 1152x360 with 2 Axes>"
      ]
     },
     "metadata": {
      "needs_background": "light"
     },
     "output_type": "display_data"
    }
   ],
   "source": [
    "fig, (ax0, ax1) = plt.subplots(1, 2, figsize=(16, 5))\n",
    "ax0.plot(t0, improvement)\n",
    "ax0.grid()\n",
    "ax1.plot(t0, time_exec)\n",
    "ax1.grid()"
   ]
  },
  {
   "cell_type": "markdown",
   "metadata": {},
   "source": [
    "mejora = (energia(inicial) - energia(final))/energia(inicial)\n",
    "\n",
    "Este número indica cuánto mejoró la solución final, en promedio, respecto a la inicial en función de la temperatura inicial. Se puede observar que a partir de una t0 de 200 se obtienen resultados suficientemente aceptables. Duplicar la temperatura inicial significa duplicar el tiempo de ejecución pero esto no se ve reflejado en una mejora considerable en la calidad de la solución. Con 200 iteraciones ya podemos considerar que la solución provista es buena."
   ]
  }
 ],
 "metadata": {
  "kernelspec": {
   "display_name": "Python 3",
   "language": "python",
   "name": "python3"
  },
  "language_info": {
   "codemirror_mode": {
    "name": "ipython",
    "version": 3
   },
   "file_extension": ".py",
   "mimetype": "text/x-python",
   "name": "python",
   "nbconvert_exporter": "python",
   "pygments_lexer": "ipython3",
   "version": "3.7.3"
  }
 },
 "nbformat": 4,
 "nbformat_minor": 2
}
